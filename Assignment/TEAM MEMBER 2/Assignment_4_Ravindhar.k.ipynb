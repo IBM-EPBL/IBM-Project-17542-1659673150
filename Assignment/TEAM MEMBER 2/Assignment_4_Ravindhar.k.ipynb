{
  "nbformat": 4,
  "nbformat_minor": 0,
  "metadata": {
    "colab": {
      "provenance": [],
      "collapsed_sections": []
    },
    "kernelspec": {
      "name": "python3",
      "display_name": "Python 3"
    },
    "language_info": {
      "name": "python"
    }
  },
  "cells": [
    {
      "cell_type": "code",
      "execution_count": 94,
      "metadata": {
        "id": "DRD6xdgXZmCk"
      },
      "outputs": [],
      "source": [
        "import numpy as np\n",
        "import pandas as pd\n",
        "import seaborn as sns\n",
        "import matplotlib.pyplot as plt\n",
        "import sklearn"
      ]
    },
    {
      "cell_type": "markdown",
      "source": [
        "#2. Load the dataset"
      ],
      "metadata": {
        "id": "R2lM-5TcaFSG"
      }
    },
    {
      "cell_type": "code",
      "source": [
        "rv=pd.read_csv(r\"/content/Mall_Customers.csv\")\n",
        "rv.head()"
      ],
      "metadata": {
        "colab": {
          "base_uri": "https://localhost:8080/",
          "height": 206
        },
        "id": "PDyECDX6aK0c",
        "outputId": "36fca515-131c-40d7-b9a8-998bdd538bb9"
      },
      "execution_count": 95,
      "outputs": [
        {
          "output_type": "execute_result",
          "data": {
            "text/plain": [
              "   CustomerID  Gender  Age  Annual Income (k$)  Spending Score (1-100)\n",
              "0           1    Male   19                  15                      39\n",
              "1           2    Male   21                  15                      81\n",
              "2           3  Female   20                  16                       6\n",
              "3           4  Female   23                  16                      77\n",
              "4           5  Female   31                  17                      40"
            ],
            "text/html": [
              "\n",
              "  <div id=\"df-7d0b7659-e651-4989-b6c0-5d5fabdc9b8f\">\n",
              "    <div class=\"colab-df-container\">\n",
              "      <div>\n",
              "<style scoped>\n",
              "    .dataframe tbody tr th:only-of-type {\n",
              "        vertical-align: middle;\n",
              "    }\n",
              "\n",
              "    .dataframe tbody tr th {\n",
              "        vertical-align: top;\n",
              "    }\n",
              "\n",
              "    .dataframe thead th {\n",
              "        text-align: right;\n",
              "    }\n",
              "</style>\n",
              "<table border=\"1\" class=\"dataframe\">\n",
              "  <thead>\n",
              "    <tr style=\"text-align: right;\">\n",
              "      <th></th>\n",
              "      <th>CustomerID</th>\n",
              "      <th>Gender</th>\n",
              "      <th>Age</th>\n",
              "      <th>Annual Income (k$)</th>\n",
              "      <th>Spending Score (1-100)</th>\n",
              "    </tr>\n",
              "  </thead>\n",
              "  <tbody>\n",
              "    <tr>\n",
              "      <th>0</th>\n",
              "      <td>1</td>\n",
              "      <td>Male</td>\n",
              "      <td>19</td>\n",
              "      <td>15</td>\n",
              "      <td>39</td>\n",
              "    </tr>\n",
              "    <tr>\n",
              "      <th>1</th>\n",
              "      <td>2</td>\n",
              "      <td>Male</td>\n",
              "      <td>21</td>\n",
              "      <td>15</td>\n",
              "      <td>81</td>\n",
              "    </tr>\n",
              "    <tr>\n",
              "      <th>2</th>\n",
              "      <td>3</td>\n",
              "      <td>Female</td>\n",
              "      <td>20</td>\n",
              "      <td>16</td>\n",
              "      <td>6</td>\n",
              "    </tr>\n",
              "    <tr>\n",
              "      <th>3</th>\n",
              "      <td>4</td>\n",
              "      <td>Female</td>\n",
              "      <td>23</td>\n",
              "      <td>16</td>\n",
              "      <td>77</td>\n",
              "    </tr>\n",
              "    <tr>\n",
              "      <th>4</th>\n",
              "      <td>5</td>\n",
              "      <td>Female</td>\n",
              "      <td>31</td>\n",
              "      <td>17</td>\n",
              "      <td>40</td>\n",
              "    </tr>\n",
              "  </tbody>\n",
              "</table>\n",
              "</div>\n",
              "      <button class=\"colab-df-convert\" onclick=\"convertToInteractive('df-7d0b7659-e651-4989-b6c0-5d5fabdc9b8f')\"\n",
              "              title=\"Convert this dataframe to an interactive table.\"\n",
              "              style=\"display:none;\">\n",
              "        \n",
              "  <svg xmlns=\"http://www.w3.org/2000/svg\" height=\"24px\"viewBox=\"0 0 24 24\"\n",
              "       width=\"24px\">\n",
              "    <path d=\"M0 0h24v24H0V0z\" fill=\"none\"/>\n",
              "    <path d=\"M18.56 5.44l.94 2.06.94-2.06 2.06-.94-2.06-.94-.94-2.06-.94 2.06-2.06.94zm-11 1L8.5 8.5l.94-2.06 2.06-.94-2.06-.94L8.5 2.5l-.94 2.06-2.06.94zm10 10l.94 2.06.94-2.06 2.06-.94-2.06-.94-.94-2.06-.94 2.06-2.06.94z\"/><path d=\"M17.41 7.96l-1.37-1.37c-.4-.4-.92-.59-1.43-.59-.52 0-1.04.2-1.43.59L10.3 9.45l-7.72 7.72c-.78.78-.78 2.05 0 2.83L4 21.41c.39.39.9.59 1.41.59.51 0 1.02-.2 1.41-.59l7.78-7.78 2.81-2.81c.8-.78.8-2.07 0-2.86zM5.41 20L4 18.59l7.72-7.72 1.47 1.35L5.41 20z\"/>\n",
              "  </svg>\n",
              "      </button>\n",
              "      \n",
              "  <style>\n",
              "    .colab-df-container {\n",
              "      display:flex;\n",
              "      flex-wrap:wrap;\n",
              "      gap: 12px;\n",
              "    }\n",
              "\n",
              "    .colab-df-convert {\n",
              "      background-color: #E8F0FE;\n",
              "      border: none;\n",
              "      border-radius: 50%;\n",
              "      cursor: pointer;\n",
              "      display: none;\n",
              "      fill: #1967D2;\n",
              "      height: 32px;\n",
              "      padding: 0 0 0 0;\n",
              "      width: 32px;\n",
              "    }\n",
              "\n",
              "    .colab-df-convert:hover {\n",
              "      background-color: #E2EBFA;\n",
              "      box-shadow: 0px 1px 2px rgba(60, 64, 67, 0.3), 0px 1px 3px 1px rgba(60, 64, 67, 0.15);\n",
              "      fill: #174EA6;\n",
              "    }\n",
              "\n",
              "    [theme=dark] .colab-df-convert {\n",
              "      background-color: #3B4455;\n",
              "      fill: #D2E3FC;\n",
              "    }\n",
              "\n",
              "    [theme=dark] .colab-df-convert:hover {\n",
              "      background-color: #434B5C;\n",
              "      box-shadow: 0px 1px 3px 1px rgba(0, 0, 0, 0.15);\n",
              "      filter: drop-shadow(0px 1px 2px rgba(0, 0, 0, 0.3));\n",
              "      fill: #FFFFFF;\n",
              "    }\n",
              "  </style>\n",
              "\n",
              "      <script>\n",
              "        const buttonEl =\n",
              "          document.querySelector('#df-7d0b7659-e651-4989-b6c0-5d5fabdc9b8f button.colab-df-convert');\n",
              "        buttonEl.style.display =\n",
              "          google.colab.kernel.accessAllowed ? 'block' : 'none';\n",
              "\n",
              "        async function convertToInteractive(key) {\n",
              "          const element = document.querySelector('#df-7d0b7659-e651-4989-b6c0-5d5fabdc9b8f');\n",
              "          const dataTable =\n",
              "            await google.colab.kernel.invokeFunction('convertToInteractive',\n",
              "                                                     [key], {});\n",
              "          if (!dataTable) return;\n",
              "\n",
              "          const docLinkHtml = 'Like what you see? Visit the ' +\n",
              "            '<a target=\"_blank\" href=https://colab.research.google.com/notebooks/data_table.ipynb>data table notebook</a>'\n",
              "            + ' to learn more about interactive tables.';\n",
              "          element.innerHTML = '';\n",
              "          dataTable['output_type'] = 'display_data';\n",
              "          await google.colab.output.renderOutput(dataTable, element);\n",
              "          const docLink = document.createElement('div');\n",
              "          docLink.innerHTML = docLinkHtml;\n",
              "          element.appendChild(docLink);\n",
              "        }\n",
              "      </script>\n",
              "    </div>\n",
              "  </div>\n",
              "  "
            ]
          },
          "metadata": {},
          "execution_count": 95
        }
      ]
    },
    {
      "cell_type": "markdown",
      "source": [
        "#3. Perform Below Visualizations"
      ],
      "metadata": {
        "id": "eQZG7iLPalj3"
      }
    },
    {
      "cell_type": "markdown",
      "source": [
        "#a) Univariate Analysis"
      ],
      "metadata": {
        "id": "MUn3F0n4bS5u"
      }
    },
    {
      "cell_type": "code",
      "source": [
        "sns.histplot(rv['Age'])"
      ],
      "metadata": {
        "colab": {
          "base_uri": "https://localhost:8080/",
          "height": 296
        },
        "id": "zpDYiAZfbV_Q",
        "outputId": "43fa1703-d06c-4fca-8f25-6119755f7fa0"
      },
      "execution_count": 96,
      "outputs": [
        {
          "output_type": "execute_result",
          "data": {
            "text/plain": [
              "<matplotlib.axes._subplots.AxesSubplot at 0x7ffaadd0ac90>"
            ]
          },
          "metadata": {},
          "execution_count": 96
        },
        {
          "output_type": "display_data",
          "data": {
            "text/plain": [
              "<Figure size 432x288 with 1 Axes>"
            ],
            "image/png": "[encoded data removed]"
          },
          "metadata": {
            "needs_background": "light"
          }
        }
      ]
    },
    {
      "cell_type": "markdown",
      "source": [
        "#b) Bi - Variate Analysis"
      ],
      "metadata": {
        "id": "G3EjjbYCbhsd"
      }
    },
    {
      "cell_type": "code",
      "source": [
        "sns.barplot(rv['Gender'],rv['Age'])"
      ],
      "metadata": {
        "colab": {
          "base_uri": "https://localhost:8080/",
          "height": 351
        },
        "id": "ticVCbnPbkGU",
        "outputId": "3f58a5f1-a853-4ab8-b090-c851613ba1d6"
      },
      "execution_count": 99,
      "outputs": [
        {
          "output_type": "stream",
          "name": "stderr",
          "text": [
            "/usr/local/lib/python3.7/dist-packages/seaborn/_decorators.py:43: FutureWarning: Pass the following variables as keyword args: x, y. From version 0.12, the only valid positional argument will be `data`, and passing other arguments without an explicit keyword will result in an error or misinterpretation.\n",
            "  FutureWarning\n"
          ]
        },
        {
          "output_type": "execute_result",
          "data": {
            "text/plain": [
              "<matplotlib.axes._subplots.AxesSubplot at 0x7ffaadbf8450>"
            ]
          },
          "metadata": {},
          "execution_count": 99
        },
        {
          "output_type": "display_data",
          "data": {
            "text/plain": [
              "<Figure size 432x288 with 1 Axes>"
            ],
            "image/png": "[encoded data removed]"
          },
          "metadata": {
            "needs_background": "light"
          }
        }
      ]
    },
    {
      "cell_type": "markdown",
      "source": [
        "#c)Multi - Variate Analysis"
      ],
      "metadata": {
        "id": "Fg0ZI_K7bvDE"
      }
    },
    {
      "cell_type": "code",
      "source": [
        "sns.scatterplot(rv['Spending Score (1-100)'],rv['Annual Income (k$)'],rv['Gender'])"
      ],
      "metadata": {
        "colab": {
          "base_uri": "https://localhost:8080/",
          "height": 351
        },
        "id": "roPkhyF8b3xg",
        "outputId": "ce9229e9-88c5-4835-9dbe-37937606c556"
      },
      "execution_count": 103,
      "outputs": [
        {
          "output_type": "stream",
          "name": "stderr",
          "text": [
            "/usr/local/lib/python3.7/dist-packages/seaborn/_decorators.py:43: FutureWarning: Pass the following variables as keyword args: x, y, hue. From version 0.12, the only valid positional argument will be `data`, and passing other arguments without an explicit keyword will result in an error or misinterpretation.\n",
            "  FutureWarning\n"
          ]
        },
        {
          "output_type": "execute_result",
          "data": {
            "text/plain": [
              "<matplotlib.axes._subplots.AxesSubplot at 0x7ffaad9c7150>"
            ]
          },
          "metadata": {},
          "execution_count": 103
        },
        {
          "output_type": "display_data",
          "data": {
            "text/plain": [
              "<Figure size 432x288 with 1 Axes>"
            ],
            "image/png": "[encoded data removed]"
          },
          "metadata": {
            "needs_background": "light"
          }
        }
      ]
    },
    {
      "cell_type": "markdown",
      "source": [
        "#4. Perform descriptive statistics on the dataset"
      ],
      "metadata": {
        "id": "qZPcENM_b_-x"
      }
    },
    {
      "cell_type": "code",
      "source": [
        "rv.describe()"
      ],
      "metadata": {
        "colab": {
          "base_uri": "https://localhost:8080/",
          "height": 300
        },
        "id": "a-Ka9x-8cGJy",
        "outputId": "b1cfbc8d-19ec-4327-c01b-5a9f283b16b1"
      },
      "execution_count": 104,
      "outputs": [
        {
          "output_type": "execute_result",
          "data": {
            "text/plain": [
              "       CustomerID         Age  Annual Income (k$)  Spending Score (1-100)\n",
              "count  200.000000  200.000000          200.000000              200.000000\n",
              "mean   100.500000   38.850000           60.560000               50.200000\n",
              "std     57.879185   13.969007           26.264721               25.823522\n",
              "min      1.000000   18.000000           15.000000                1.000000\n",
              "25%     50.750000   28.750000           41.500000               34.750000\n",
              "50%    100.500000   36.000000           61.500000               50.000000\n",
              "75%    150.250000   49.000000           78.000000               73.000000\n",
              "max    200.000000   70.000000          137.000000               99.000000"
            ],
            "text/html": [
              "\n",
              "  <div id=\"df-61c46ae3-6374-4023-a390-d246e48050a0\">\n",
              "    <div class=\"colab-df-container\">\n",
              "      <div>\n",
              "<style scoped>\n",
              "    .dataframe tbody tr th:only-of-type {\n",
              "        vertical-align: middle;\n",
              "    }\n",
              "\n",
              "    .dataframe tbody tr th {\n",
              "        vertical-align: top;\n",
              "    }\n",
              "\n",
              "    .dataframe thead th {\n",
              "        text-align: right;\n",
              "    }\n",
              "</style>\n",
              "<table border=\"1\" class=\"dataframe\">\n",
              "  <thead>\n",
              "    <tr style=\"text-align: right;\">\n",
              "      <th></th>\n",
              "      <th>CustomerID</th>\n",
              "      <th>Age</th>\n",
              "      <th>Annual Income (k$)</th>\n",
              "      <th>Spending Score (1-100)</th>\n",
              "    </tr>\n",
              "  </thead>\n",
              "  <tbody>\n",
              "    <tr>\n",
              "      <th>count</th>\n",
              "      <td>200.000000</td>\n",
              "      <td>200.000000</td>\n",
              "      <td>200.000000</td>\n",
              "      <td>200.000000</td>\n",
              "    </tr>\n",
              "    <tr>\n",
              "      <th>mean</th>\n",
              "      <td>100.500000</td>\n",
              "      <td>38.850000</td>\n",
              "      <td>60.560000</td>\n",
              "      <td>50.200000</td>\n",
              "    </tr>\n",
              "    <tr>\n",
              "      <th>std</th>\n",
              "      <td>57.879185</td>\n",
              "      <td>13.969007</td>\n",
              "      <td>26.264721</td>\n",
              "      <td>25.823522</td>\n",
              "    </tr>\n",
              "    <tr>\n",
              "      <th>min</th>\n",
              "      <td>1.000000</td>\n",
              "      <td>18.000000</td>\n",
              "      <td>15.000000</td>\n",
              "      <td>1.000000</td>\n",
              "    </tr>\n",
              "    <tr>\n",
              "      <th>25%</th>\n",
              "      <td>50.750000</td>\n",
              "      <td>28.750000</td>\n",
              "      <td>41.500000</td>\n",
              "      <td>34.750000</td>\n",
              "    </tr>\n",
              "    <tr>\n",
              "      <th>50%</th>\n",
              "      <td>100.500000</td>\n",
              "      <td>36.000000</td>\n",
              "      <td>61.500000</td>\n",
              "      <td>50.000000</td>\n",
              "    </tr>\n",
              "    <tr>\n",
              "      <th>75%</th>\n",
              "      <td>150.250000</td>\n",
              "      <td>49.000000</td>\n",
              "      <td>78.000000</td>\n",
              "      <td>73.000000</td>\n",
              "    </tr>\n",
              "    <tr>\n",
              "      <th>max</th>\n",
              "      <td>200.000000</td>\n",
              "      <td>70.000000</td>\n",
              "      <td>137.000000</td>\n",
              "      <td>99.000000</td>\n",
              "    </tr>\n",
              "  </tbody>\n",
              "</table>\n",
              "</div>\n",
              "      <button class=\"colab-df-convert\" onclick=\"convertToInteractive('df-61c46ae3-6374-4023-a390-d246e48050a0')\"\n",
              "              title=\"Convert this dataframe to an interactive table.\"\n",
              "              style=\"display:none;\">\n",
              "        \n",
              "  <svg xmlns=\"http://www.w3.org/2000/svg\" height=\"24px\"viewBox=\"0 0 24 24\"\n",
              "       width=\"24px\">\n",
              "    <path d=\"M0 0h24v24H0V0z\" fill=\"none\"/>\n",
              "    <path d=\"M18.56 5.44l.94 2.06.94-2.06 2.06-.94-2.06-.94-.94-2.06-.94 2.06-2.06.94zm-11 1L8.5 8.5l.94-2.06 2.06-.94-2.06-.94L8.5 2.5l-.94 2.06-2.06.94zm10 10l.94 2.06.94-2.06 2.06-.94-2.06-.94-.94-2.06-.94 2.06-2.06.94z\"/><path d=\"M17.41 7.96l-1.37-1.37c-.4-.4-.92-.59-1.43-.59-.52 0-1.04.2-1.43.59L10.3 9.45l-7.72 7.72c-.78.78-.78 2.05 0 2.83L4 21.41c.39.39.9.59 1.41.59.51 0 1.02-.2 1.41-.59l7.78-7.78 2.81-2.81c.8-.78.8-2.07 0-2.86zM5.41 20L4 18.59l7.72-7.72 1.47 1.35L5.41 20z\"/>\n",
              "  </svg>\n",
              "      </button>\n",
              "      \n",
              "  <style>\n",
              "    .colab-df-container {\n",
              "      display:flex;\n",
              "      flex-wrap:wrap;\n",
              "      gap: 12px;\n",
              "    }\n",
              "\n",
              "    .colab-df-convert {\n",
              "      background-color: #E8F0FE;\n",
              "      border: none;\n",
              "      border-radius: 50%;\n",
              "      cursor: pointer;\n",
              "      display: none;\n",
              "      fill: #1967D2;\n",
              "      height: 32px;\n",
              "      padding: 0 0 0 0;\n",
              "      width: 32px;\n",
              "    }\n",
              "\n",
              "    .colab-df-convert:hover {\n",
              "      background-color: #E2EBFA;\n",
              "      box-shadow: 0px 1px 2px rgba(60, 64, 67, 0.3), 0px 1px 3px 1px rgba(60, 64, 67, 0.15);\n",
              "      fill: #174EA6;\n",
              "    }\n",
              "\n",
              "    [theme=dark] .colab-df-convert {\n",
              "      background-color: #3B4455;\n",
              "      fill: #D2E3FC;\n",
              "    }\n",
              "\n",
              "    [theme=dark] .colab-df-convert:hover {\n",
              "      background-color: #434B5C;\n",
              "      box-shadow: 0px 1px 3px 1px rgba(0, 0, 0, 0.15);\n",
              "      filter: drop-shadow(0px 1px 2px rgba(0, 0, 0, 0.3));\n",
              "      fill: #FFFFFF;\n",
              "    }\n",
              "  </style>\n",
              "\n",
              "      <script>\n",
              "        const buttonEl =\n",
              "          document.querySelector('#df-61c46ae3-6374-4023-a390-d246e48050a0 button.colab-df-convert');\n",
              "        buttonEl.style.display =\n",
              "          google.colab.kernel.accessAllowed ? 'block' : 'none';\n",
              "\n",
              "        async function convertToInteractive(key) {\n",
              "          const element = document.querySelector('#df-61c46ae3-6374-4023-a390-d246e48050a0');\n",
              "          const dataTable =\n",
              "            await google.colab.kernel.invokeFunction('convertToInteractive',\n",
              "                                                     [key], {});\n",
              "          if (!dataTable) return;\n",
              "\n",
              "          const docLinkHtml = 'Like what you see? Visit the ' +\n",
              "            '<a target=\"_blank\" href=https://colab.research.google.com/notebooks/data_table.ipynb>data table notebook</a>'\n",
              "            + ' to learn more about interactive tables.';\n",
              "          element.innerHTML = '';\n",
              "          dataTable['output_type'] = 'display_data';\n",
              "          await google.colab.output.renderOutput(dataTable, element);\n",
              "          const docLink = document.createElement('div');\n",
              "          docLink.innerHTML = docLinkHtml;\n",
              "          element.appendChild(docLink);\n",
              "        }\n",
              "      </script>\n",
              "    </div>\n",
              "  </div>\n",
              "  "
            ]
          },
          "metadata": {},
          "execution_count": 104
        }
      ]
    },
    {
      "cell_type": "markdown",
      "source": [
        "#5. Check for Missing values and deal with them."
      ],
      "metadata": {
        "id": "cbA4r3f1cSWQ"
      }
    },
    {
      "cell_type": "code",
      "source": [
        "rv.isnull().sum()"
      ],
      "metadata": {
        "colab": {
          "base_uri": "https://localhost:8080/"
        },
        "id": "a7TSuZOOcWvm",
        "outputId": "31667ac2-5308-4fdd-d315-8812f22e762b"
      },
      "execution_count": 105,
      "outputs": [
        {
          "output_type": "execute_result",
          "data": {
            "text/plain": [
              "CustomerID                0\n",
              "Gender                    0\n",
              "Age                       0\n",
              "Annual Income (k$)        0\n",
              "Spending Score (1-100)    0\n",
              "dtype: int64"
            ]
          },
          "metadata": {},
          "execution_count": 105
        }
      ]
    },
    {
      "cell_type": "markdown",
      "source": [
        "#6. Find the outliers and replace them outliers"
      ],
      "metadata": {
        "id": "09DvxzrKcdqS"
      }
    },
    {
      "cell_type": "code",
      "source": [
        "sns.boxplot(rv['Age'])"
      ],
      "metadata": {
        "colab": {
          "base_uri": "https://localhost:8080/",
          "height": 351
        },
        "id": "J3gZ9yTedObo",
        "outputId": "dcc35445-24ea-4c4c-d4e1-23456031783f"
      },
      "execution_count": 121,
      "outputs": [
        {
          "output_type": "stream",
          "name": "stderr",
          "text": [
            "/usr/local/lib/python3.7/dist-packages/seaborn/_decorators.py:43: FutureWarning: Pass the following variable as a keyword arg: x. From version 0.12, the only valid positional argument will be `data`, and passing other arguments without an explicit keyword will result in an error or misinterpretation.\n",
            "  FutureWarning\n"
          ]
        },
        {
          "output_type": "execute_result",
          "data": {
            "text/plain": [
              "<matplotlib.axes._subplots.AxesSubplot at 0x7ffaad66c290>"
            ]
          },
          "metadata": {},
          "execution_count": 121
        },
        {
          "output_type": "display_data",
          "data": {
            "text/plain": [
              "<Figure size 432x288 with 1 Axes>"
            ],
            "image/png": "[encoded data removed]"
          },
          "metadata": {
            "needs_background": "light"
          }
        }
      ]
    },
    {
      "cell_type": "code",
      "source": [
        "q=rv.quantile([0.85,0.45])\n",
        "q"
      ],
      "metadata": {
        "colab": {
          "base_uri": "https://localhost:8080/",
          "height": 112
        },
        "id": "WDCFulfCdTjB",
        "outputId": "710b3987-2a01-4ab8-dc74-c4a571b8158d"
      },
      "execution_count": 122,
      "outputs": [
        {
          "output_type": "execute_result",
          "data": {
            "text/plain": [
              "      CustomerID    Age  Annual Income (k$)  Spending Score (1-100)\n",
              "0.85      170.15  54.15                 7.0                     7.0\n",
              "0.45       90.55  35.00                 7.0                     7.0"
            ],
            "text/html": [
              "\n",
              "  <div id=\"df-89aeaced-c797-43ac-81dd-3f953d478bde\">\n",
              "    <div class=\"colab-df-container\">\n",
              "      <div>\n",
              "<style scoped>\n",
              "    .dataframe tbody tr th:only-of-type {\n",
              "        vertical-align: middle;\n",
              "    }\n",
              "\n",
              "    .dataframe tbody tr th {\n",
              "        vertical-align: top;\n",
              "    }\n",
              "\n",
              "    .dataframe thead th {\n",
              "        text-align: right;\n",
              "    }\n",
              "</style>\n",
              "<table border=\"1\" class=\"dataframe\">\n",
              "  <thead>\n",
              "    <tr style=\"text-align: right;\">\n",
              "      <th></th>\n",
              "      <th>CustomerID</th>\n",
              "      <th>Age</th>\n",
              "      <th>Annual Income (k$)</th>\n",
              "      <th>Spending Score (1-100)</th>\n",
              "    </tr>\n",
              "  </thead>\n",
              "  <tbody>\n",
              "    <tr>\n",
              "      <th>0.85</th>\n",
              "      <td>170.15</td>\n",
              "      <td>54.15</td>\n",
              "      <td>7.0</td>\n",
              "      <td>7.0</td>\n",
              "    </tr>\n",
              "    <tr>\n",
              "      <th>0.45</th>\n",
              "      <td>90.55</td>\n",
              "      <td>35.00</td>\n",
              "      <td>7.0</td>\n",
              "      <td>7.0</td>\n",
              "    </tr>\n",
              "  </tbody>\n",
              "</table>\n",
              "</div>\n",
              "      <button class=\"colab-df-convert\" onclick=\"convertToInteractive('df-89aeaced-c797-43ac-81dd-3f953d478bde')\"\n",
              "              title=\"Convert this dataframe to an interactive table.\"\n",
              "              style=\"display:none;\">\n",
              "        \n",
              "  <svg xmlns=\"http://www.w3.org/2000/svg\" height=\"24px\"viewBox=\"0 0 24 24\"\n",
              "       width=\"24px\">\n",
              "    <path d=\"M0 0h24v24H0V0z\" fill=\"none\"/>\n",
              "    <path d=\"M18.56 5.44l.94 2.06.94-2.06 2.06-.94-2.06-.94-.94-2.06-.94 2.06-2.06.94zm-11 1L8.5 8.5l.94-2.06 2.06-.94-2.06-.94L8.5 2.5l-.94 2.06-2.06.94zm10 10l.94 2.06.94-2.06 2.06-.94-2.06-.94-.94-2.06-.94 2.06-2.06.94z\"/><path d=\"M17.41 7.96l-1.37-1.37c-.4-.4-.92-.59-1.43-.59-.52 0-1.04.2-1.43.59L10.3 9.45l-7.72 7.72c-.78.78-.78 2.05 0 2.83L4 21.41c.39.39.9.59 1.41.59.51 0 1.02-.2 1.41-.59l7.78-7.78 2.81-2.81c.8-.78.8-2.07 0-2.86zM5.41 20L4 18.59l7.72-7.72 1.47 1.35L5.41 20z\"/>\n",
              "  </svg>\n",
              "      </button>\n",
              "      \n",
              "  <style>\n",
              "    .colab-df-container {\n",
              "      display:flex;\n",
              "      flex-wrap:wrap;\n",
              "      gap: 12px;\n",
              "    }\n",
              "\n",
              "    .colab-df-convert {\n",
              "      background-color: #E8F0FE;\n",
              "      border: none;\n",
              "      border-radius: 50%;\n",
              "      cursor: pointer;\n",
              "      display: none;\n",
              "      fill: #1967D2;\n",
              "      height: 32px;\n",
              "      padding: 0 0 0 0;\n",
              "      width: 32px;\n",
              "    }\n",
              "\n",
              "    .colab-df-convert:hover {\n",
              "      background-color: #E2EBFA;\n",
              "      box-shadow: 0px 1px 2px rgba(60, 64, 67, 0.3), 0px 1px 3px 1px rgba(60, 64, 67, 0.15);\n",
              "      fill: #174EA6;\n",
              "    }\n",
              "\n",
              "    [theme=dark] .colab-df-convert {\n",
              "      background-color: #3B4455;\n",
              "      fill: #D2E3FC;\n",
              "    }\n",
              "\n",
              "    [theme=dark] .colab-df-convert:hover {\n",
              "      background-color: #434B5C;\n",
              "      box-shadow: 0px 1px 3px 1px rgba(0, 0, 0, 0.15);\n",
              "      filter: drop-shadow(0px 1px 2px rgba(0, 0, 0, 0.3));\n",
              "      fill: #FFFFFF;\n",
              "    }\n",
              "  </style>\n",
              "\n",
              "      <script>\n",
              "        const buttonEl =\n",
              "          document.querySelector('#df-89aeaced-c797-43ac-81dd-3f953d478bde button.colab-df-convert');\n",
              "        buttonEl.style.display =\n",
              "          google.colab.kernel.accessAllowed ? 'block' : 'none';\n",
              "\n",
              "        async function convertToInteractive(key) {\n",
              "          const element = document.querySelector('#df-89aeaced-c797-43ac-81dd-3f953d478bde');\n",
              "          const dataTable =\n",
              "            await google.colab.kernel.invokeFunction('convertToInteractive',\n",
              "                                                     [key], {});\n",
              "          if (!dataTable) return;\n",
              "\n",
              "          const docLinkHtml = 'Like what you see? Visit the ' +\n",
              "            '<a target=\"_blank\" href=https://colab.research.google.com/notebooks/data_table.ipynb>data table notebook</a>'\n",
              "            + ' to learn more about interactive tables.';\n",
              "          element.innerHTML = '';\n",
              "          dataTable['output_type'] = 'display_data';\n",
              "          await google.colab.output.renderOutput(dataTable, element);\n",
              "          const docLink = document.createElement('div');\n",
              "          docLink.innerHTML = docLinkHtml;\n",
              "          element.appendChild(docLink);\n",
              "        }\n",
              "      </script>\n",
              "    </div>\n",
              "  </div>\n",
              "  "
            ]
          },
          "metadata": {},
          "execution_count": 122
        }
      ]
    },
    {
      "cell_type": "code",
      "source": [
        "iqr=q.iloc[0]-q.iloc[1]\n",
        "iqr"
      ],
      "metadata": {
        "colab": {
          "base_uri": "https://localhost:8080/"
        },
        "id": "nmIx6HsldZBc",
        "outputId": "fee861c4-7a0c-46fd-eda8-dce642e0704e"
      },
      "execution_count": 123,
      "outputs": [
        {
          "output_type": "execute_result",
          "data": {
            "text/plain": [
              "CustomerID                79.60\n",
              "Age                       19.15\n",
              "Annual Income (k$)         0.00\n",
              "Spending Score (1-100)     0.00\n",
              "dtype: float64"
            ]
          },
          "metadata": {},
          "execution_count": 123
        }
      ]
    },
    {
      "cell_type": "code",
      "source": [
        "u=q.iloc[0]+(1.5*iqr)\n",
        "u"
      ],
      "metadata": {
        "colab": {
          "base_uri": "https://localhost:8080/"
        },
        "id": "lG8T_9-wdfV9",
        "outputId": "1d37b720-c0af-4822-a9bf-7ba8ea8caf9c"
      },
      "execution_count": 124,
      "outputs": [
        {
          "output_type": "execute_result",
          "data": {
            "text/plain": [
              "CustomerID                289.550\n",
              "Age                        82.875\n",
              "Annual Income (k$)          7.000\n",
              "Spending Score (1-100)      7.000\n",
              "dtype: float64"
            ]
          },
          "metadata": {},
          "execution_count": 124
        }
      ]
    },
    {
      "cell_type": "code",
      "source": [
        "l=q.iloc[1]-(1.5*iqr)\n",
        "l"
      ],
      "metadata": {
        "colab": {
          "base_uri": "https://localhost:8080/"
        },
        "id": "HFdSuozZdlG8",
        "outputId": "a2865dd6-ad93-4922-b7b6-7d1053c84dc6"
      },
      "execution_count": 125,
      "outputs": [
        {
          "output_type": "execute_result",
          "data": {
            "text/plain": [
              "CustomerID               -28.850\n",
              "Age                        6.275\n",
              "Annual Income (k$)         7.000\n",
              "Spending Score (1-100)     7.000\n",
              "dtype: float64"
            ]
          },
          "metadata": {},
          "execution_count": 125
        }
      ]
    },
    {
      "cell_type": "code",
      "source": [
        "rv['Age']=np.where(rv['Age']>10,7,rv['Age'])\n",
        "sns.boxplot(rv['Age'])"
      ],
      "metadata": {
        "colab": {
          "base_uri": "https://localhost:8080/",
          "height": 351
        },
        "id": "ZXqVaKfCdtkr",
        "outputId": "77b1461b-7e0c-44da-aa17-8ac473db8564"
      },
      "execution_count": 127,
      "outputs": [
        {
          "output_type": "stream",
          "name": "stderr",
          "text": [
            "/usr/local/lib/python3.7/dist-packages/seaborn/_decorators.py:43: FutureWarning: Pass the following variable as a keyword arg: x. From version 0.12, the only valid positional argument will be `data`, and passing other arguments without an explicit keyword will result in an error or misinterpretation.\n",
            "  FutureWarning\n"
          ]
        },
        {
          "output_type": "execute_result",
          "data": {
            "text/plain": [
              "<matplotlib.axes._subplots.AxesSubplot at 0x7ffaad54a890>"
            ]
          },
          "metadata": {},
          "execution_count": 127
        },
        {
          "output_type": "display_data",
          "data": {
            "text/plain": [
              "<Figure size 432x288 with 1 Axes>"
            ],
            "image/png": "[encoded data removed]"
          },
          "metadata": {
            "needs_background": "light"
          }
        }
      ]
    },
    {
      "cell_type": "markdown",
      "source": [
        "#7. Check for Categorical columns and perform encoding."
      ],
      "metadata": {
        "id": "oRYftb1gd3WJ"
      }
    },
    {
      "cell_type": "code",
      "source": [
        "from sklearn.preprocessing import LabelEncoder,OneHotEncoder\n",
        "lE=LabelEncoder()\n",
        "oHE=OneHotEncoder()\n",
        "rv['Gender']=lE.fit_transform(rv['Gender'])\n",
        "rv.head()"
      ],
      "metadata": {
        "colab": {
          "base_uri": "https://localhost:8080/",
          "height": 206
        },
        "id": "NX1mcI2_d5a_",
        "outputId": "7189cc39-64e1-49df-f386-db31aac561d7"
      },
      "execution_count": 129,
      "outputs": [
        {
          "output_type": "execute_result",
          "data": {
            "text/plain": [
              "   CustomerID  Gender  Age  Annual Income (k$)  Spending Score (1-100)\n",
              "0           1       1    7                   7                       7\n",
              "1           2       1    7                   7                       7\n",
              "2           3       0    7                   7                       6\n",
              "3           4       0    7                   7                       7\n",
              "4           5       0    7                   7                       7"
            ],
            "text/html": [
              "\n",
              "  <div id=\"df-1c5ee8a2-a6c4-4527-979f-8a327b17d55f\">\n",
              "    <div class=\"colab-df-container\">\n",
              "      <div>\n",
              "<style scoped>\n",
              "    .dataframe tbody tr th:only-of-type {\n",
              "        vertical-align: middle;\n",
              "    }\n",
              "\n",
              "    .dataframe tbody tr th {\n",
              "        vertical-align: top;\n",
              "    }\n",
              "\n",
              "    .dataframe thead th {\n",
              "        text-align: right;\n",
              "    }\n",
              "</style>\n",
              "<table border=\"1\" class=\"dataframe\">\n",
              "  <thead>\n",
              "    <tr style=\"text-align: right;\">\n",
              "      <th></th>\n",
              "      <th>CustomerID</th>\n",
              "      <th>Gender</th>\n",
              "      <th>Age</th>\n",
              "      <th>Annual Income (k$)</th>\n",
              "      <th>Spending Score (1-100)</th>\n",
              "    </tr>\n",
              "  </thead>\n",
              "  <tbody>\n",
              "    <tr>\n",
              "      <th>0</th>\n",
              "      <td>1</td>\n",
              "      <td>1</td>\n",
              "      <td>7</td>\n",
              "      <td>7</td>\n",
              "      <td>7</td>\n",
              "    </tr>\n",
              "    <tr>\n",
              "      <th>1</th>\n",
              "      <td>2</td>\n",
              "      <td>1</td>\n",
              "      <td>7</td>\n",
              "      <td>7</td>\n",
              "      <td>7</td>\n",
              "    </tr>\n",
              "    <tr>\n",
              "      <th>2</th>\n",
              "      <td>3</td>\n",
              "      <td>0</td>\n",
              "      <td>7</td>\n",
              "      <td>7</td>\n",
              "      <td>6</td>\n",
              "    </tr>\n",
              "    <tr>\n",
              "      <th>3</th>\n",
              "      <td>4</td>\n",
              "      <td>0</td>\n",
              "      <td>7</td>\n",
              "      <td>7</td>\n",
              "      <td>7</td>\n",
              "    </tr>\n",
              "    <tr>\n",
              "      <th>4</th>\n",
              "      <td>5</td>\n",
              "      <td>0</td>\n",
              "      <td>7</td>\n",
              "      <td>7</td>\n",
              "      <td>7</td>\n",
              "    </tr>\n",
              "  </tbody>\n",
              "</table>\n",
              "</div>\n",
              "      <button class=\"colab-df-convert\" onclick=\"convertToInteractive('df-1c5ee8a2-a6c4-4527-979f-8a327b17d55f')\"\n",
              "              title=\"Convert this dataframe to an interactive table.\"\n",
              "              style=\"display:none;\">\n",
              "        \n",
              "  <svg xmlns=\"http://www.w3.org/2000/svg\" height=\"24px\"viewBox=\"0 0 24 24\"\n",
              "       width=\"24px\">\n",
              "    <path d=\"M0 0h24v24H0V0z\" fill=\"none\"/>\n",
              "    <path d=\"M18.56 5.44l.94 2.06.94-2.06 2.06-.94-2.06-.94-.94-2.06-.94 2.06-2.06.94zm-11 1L8.5 8.5l.94-2.06 2.06-.94-2.06-.94L8.5 2.5l-.94 2.06-2.06.94zm10 10l.94 2.06.94-2.06 2.06-.94-2.06-.94-.94-2.06-.94 2.06-2.06.94z\"/><path d=\"M17.41 7.96l-1.37-1.37c-.4-.4-.92-.59-1.43-.59-.52 0-1.04.2-1.43.59L10.3 9.45l-7.72 7.72c-.78.78-.78 2.05 0 2.83L4 21.41c.39.39.9.59 1.41.59.51 0 1.02-.2 1.41-.59l7.78-7.78 2.81-2.81c.8-.78.8-2.07 0-2.86zM5.41 20L4 18.59l7.72-7.72 1.47 1.35L5.41 20z\"/>\n",
              "  </svg>\n",
              "      </button>\n",
              "      \n",
              "  <style>\n",
              "    .colab-df-container {\n",
              "      display:flex;\n",
              "      flex-wrap:wrap;\n",
              "      gap: 12px;\n",
              "    }\n",
              "\n",
              "    .colab-df-convert {\n",
              "      background-color: #E8F0FE;\n",
              "      border: none;\n",
              "      border-radius: 50%;\n",
              "      cursor: pointer;\n",
              "      display: none;\n",
              "      fill: #1967D2;\n",
              "      height: 32px;\n",
              "      padding: 0 0 0 0;\n",
              "      width: 32px;\n",
              "    }\n",
              "\n",
              "    .colab-df-convert:hover {\n",
              "      background-color: #E2EBFA;\n",
              "      box-shadow: 0px 1px 2px rgba(60, 64, 67, 0.3), 0px 1px 3px 1px rgba(60, 64, 67, 0.15);\n",
              "      fill: #174EA6;\n",
              "    }\n",
              "\n",
              "    [theme=dark] .colab-df-convert {\n",
              "      background-color: #3B4455;\n",
              "      fill: #D2E3FC;\n",
              "    }\n",
              "\n",
              "    [theme=dark] .colab-df-convert:hover {\n",
              "      background-color: #434B5C;\n",
              "      box-shadow: 0px 1px 3px 1px rgba(0, 0, 0, 0.15);\n",
              "      filter: drop-shadow(0px 1px 2px rgba(0, 0, 0, 0.3));\n",
              "      fill: #FFFFFF;\n",
              "    }\n",
              "  </style>\n",
              "\n",
              "      <script>\n",
              "        const buttonEl =\n",
              "          document.querySelector('#df-1c5ee8a2-a6c4-4527-979f-8a327b17d55f button.colab-df-convert');\n",
              "        buttonEl.style.display =\n",
              "          google.colab.kernel.accessAllowed ? 'block' : 'none';\n",
              "\n",
              "        async function convertToInteractive(key) {\n",
              "          const element = document.querySelector('#df-1c5ee8a2-a6c4-4527-979f-8a327b17d55f');\n",
              "          const dataTable =\n",
              "            await google.colab.kernel.invokeFunction('convertToInteractive',\n",
              "                                                     [key], {});\n",
              "          if (!dataTable) return;\n",
              "\n",
              "          const docLinkHtml = 'Like what you see? Visit the ' +\n",
              "            '<a target=\"_blank\" href=https://colab.research.google.com/notebooks/data_table.ipynb>data table notebook</a>'\n",
              "            + ' to learn more about interactive tables.';\n",
              "          element.innerHTML = '';\n",
              "          dataTable['output_type'] = 'display_data';\n",
              "          await google.colab.output.renderOutput(dataTable, element);\n",
              "          const docLink = document.createElement('div');\n",
              "          docLink.innerHTML = docLinkHtml;\n",
              "          element.appendChild(docLink);\n",
              "        }\n",
              "      </script>\n",
              "    </div>\n",
              "  </div>\n",
              "  "
            ]
          },
          "metadata": {},
          "execution_count": 129
        }
      ]
    },
    {
      "cell_type": "markdown",
      "source": [
        "#8. Scaling the data"
      ],
      "metadata": {
        "id": "UX6VHT4ceCHR"
      }
    },
    {
      "cell_type": "code",
      "source": [
        "x=rv.drop('Age',axis=1)\n",
        "y=rv['Age']\n",
        "x"
      ],
      "metadata": {
        "colab": {
          "base_uri": "https://localhost:8080/",
          "height": 424
        },
        "id": "PDpqDo0TeIAH",
        "outputId": "46219172-01b3-4350-d2b9-95732d329205"
      },
      "execution_count": 130,
      "outputs": [
        {
          "output_type": "execute_result",
          "data": {
            "text/plain": [
              "     CustomerID  Gender  Annual Income (k$)  Spending Score (1-100)\n",
              "0             1       1                   7                       7\n",
              "1             2       1                   7                       7\n",
              "2             3       0                   7                       6\n",
              "3             4       0                   7                       7\n",
              "4             5       0                   7                       7\n",
              "..          ...     ...                 ...                     ...\n",
              "195         196       0                   7                       7\n",
              "196         197       0                   7                       7\n",
              "197         198       1                   7                       7\n",
              "198         199       1                   7                       7\n",
              "199         200       1                   7                       7\n",
              "\n",
              "[200 rows x 4 columns]"
            ],
            "text/html": [
              "\n",
              "  <div id=\"df-34e34952-71bb-487a-937a-55f7b6903698\">\n",
              "    <div class=\"colab-df-container\">\n",
              "      <div>\n",
              "<style scoped>\n",
              "    .dataframe tbody tr th:only-of-type {\n",
              "        vertical-align: middle;\n",
              "    }\n",
              "\n",
              "    .dataframe tbody tr th {\n",
              "        vertical-align: top;\n",
              "    }\n",
              "\n",
              "    .dataframe thead th {\n",
              "        text-align: right;\n",
              "    }\n",
              "</style>\n",
              "<table border=\"1\" class=\"dataframe\">\n",
              "  <thead>\n",
              "    <tr style=\"text-align: right;\">\n",
              "      <th></th>\n",
              "      <th>CustomerID</th>\n",
              "      <th>Gender</th>\n",
              "      <th>Annual Income (k$)</th>\n",
              "      <th>Spending Score (1-100)</th>\n",
              "    </tr>\n",
              "  </thead>\n",
              "  <tbody>\n",
              "    <tr>\n",
              "      <th>0</th>\n",
              "      <td>1</td>\n",
              "      <td>1</td>\n",
              "      <td>7</td>\n",
              "      <td>7</td>\n",
              "    </tr>\n",
              "    <tr>\n",
              "      <th>1</th>\n",
              "      <td>2</td>\n",
              "      <td>1</td>\n",
              "      <td>7</td>\n",
              "      <td>7</td>\n",
              "    </tr>\n",
              "    <tr>\n",
              "      <th>2</th>\n",
              "      <td>3</td>\n",
              "      <td>0</td>\n",
              "      <td>7</td>\n",
              "      <td>6</td>\n",
              "    </tr>\n",
              "    <tr>\n",
              "      <th>3</th>\n",
              "      <td>4</td>\n",
              "      <td>0</td>\n",
              "      <td>7</td>\n",
              "      <td>7</td>\n",
              "    </tr>\n",
              "    <tr>\n",
              "      <th>4</th>\n",
              "      <td>5</td>\n",
              "      <td>0</td>\n",
              "      <td>7</td>\n",
              "      <td>7</td>\n",
              "    </tr>\n",
              "    <tr>\n",
              "      <th>...</th>\n",
              "      <td>...</td>\n",
              "      <td>...</td>\n",
              "      <td>...</td>\n",
              "      <td>...</td>\n",
              "    </tr>\n",
              "    <tr>\n",
              "      <th>195</th>\n",
              "      <td>196</td>\n",
              "      <td>0</td>\n",
              "      <td>7</td>\n",
              "      <td>7</td>\n",
              "    </tr>\n",
              "    <tr>\n",
              "      <th>196</th>\n",
              "      <td>197</td>\n",
              "      <td>0</td>\n",
              "      <td>7</td>\n",
              "      <td>7</td>\n",
              "    </tr>\n",
              "    <tr>\n",
              "      <th>197</th>\n",
              "      <td>198</td>\n",
              "      <td>1</td>\n",
              "      <td>7</td>\n",
              "      <td>7</td>\n",
              "    </tr>\n",
              "    <tr>\n",
              "      <th>198</th>\n",
              "      <td>199</td>\n",
              "      <td>1</td>\n",
              "      <td>7</td>\n",
              "      <td>7</td>\n",
              "    </tr>\n",
              "    <tr>\n",
              "      <th>199</th>\n",
              "      <td>200</td>\n",
              "      <td>1</td>\n",
              "      <td>7</td>\n",
              "      <td>7</td>\n",
              "    </tr>\n",
              "  </tbody>\n",
              "</table>\n",
              "<p>200 rows × 4 columns</p>\n",
              "</div>\n",
              "      <button class=\"colab-df-convert\" onclick=\"convertToInteractive('df-34e34952-71bb-487a-937a-55f7b6903698')\"\n",
              "              title=\"Convert this dataframe to an interactive table.\"\n",
              "              style=\"display:none;\">\n",
              "        \n",
              "  <svg xmlns=\"http://www.w3.org/2000/svg\" height=\"24px\"viewBox=\"0 0 24 24\"\n",
              "       width=\"24px\">\n",
              "    <path d=\"M0 0h24v24H0V0z\" fill=\"none\"/>\n",
              "    <path d=\"M18.56 5.44l.94 2.06.94-2.06 2.06-.94-2.06-.94-.94-2.06-.94 2.06-2.06.94zm-11 1L8.5 8.5l.94-2.06 2.06-.94-2.06-.94L8.5 2.5l-.94 2.06-2.06.94zm10 10l.94 2.06.94-2.06 2.06-.94-2.06-.94-.94-2.06-.94 2.06-2.06.94z\"/><path d=\"M17.41 7.96l-1.37-1.37c-.4-.4-.92-.59-1.43-.59-.52 0-1.04.2-1.43.59L10.3 9.45l-7.72 7.72c-.78.78-.78 2.05 0 2.83L4 21.41c.39.39.9.59 1.41.59.51 0 1.02-.2 1.41-.59l7.78-7.78 2.81-2.81c.8-.78.8-2.07 0-2.86zM5.41 20L4 18.59l7.72-7.72 1.47 1.35L5.41 20z\"/>\n",
              "  </svg>\n",
              "      </button>\n",
              "      \n",
              "  <style>\n",
              "    .colab-df-container {\n",
              "      display:flex;\n",
              "      flex-wrap:wrap;\n",
              "      gap: 12px;\n",
              "    }\n",
              "\n",
              "    .colab-df-convert {\n",
              "      background-color: #E8F0FE;\n",
              "      border: none;\n",
              "      border-radius: 50%;\n",
              "      cursor: pointer;\n",
              "      display: none;\n",
              "      fill: #1967D2;\n",
              "      height: 32px;\n",
              "      padding: 0 0 0 0;\n",
              "      width: 32px;\n",
              "    }\n",
              "\n",
              "    .colab-df-convert:hover {\n",
              "      background-color: #E2EBFA;\n",
              "      box-shadow: 0px 1px 2px rgba(60, 64, 67, 0.3), 0px 1px 3px 1px rgba(60, 64, 67, 0.15);\n",
              "      fill: #174EA6;\n",
              "    }\n",
              "\n",
              "    [theme=dark] .colab-df-convert {\n",
              "      background-color: #3B4455;\n",
              "      fill: #D2E3FC;\n",
              "    }\n",
              "\n",
              "    [theme=dark] .colab-df-convert:hover {\n",
              "      background-color: #434B5C;\n",
              "      box-shadow: 0px 1px 3px 1px rgba(0, 0, 0, 0.15);\n",
              "      filter: drop-shadow(0px 1px 2px rgba(0, 0, 0, 0.3));\n",
              "      fill: #FFFFFF;\n",
              "    }\n",
              "  </style>\n",
              "\n",
              "      <script>\n",
              "        const buttonEl =\n",
              "          document.querySelector('#df-34e34952-71bb-487a-937a-55f7b6903698 button.colab-df-convert');\n",
              "        buttonEl.style.display =\n",
              "          google.colab.kernel.accessAllowed ? 'block' : 'none';\n",
              "\n",
              "        async function convertToInteractive(key) {\n",
              "          const element = document.querySelector('#df-34e34952-71bb-487a-937a-55f7b6903698');\n",
              "          const dataTable =\n",
              "            await google.colab.kernel.invokeFunction('convertToInteractive',\n",
              "                                                     [key], {});\n",
              "          if (!dataTable) return;\n",
              "\n",
              "          const docLinkHtml = 'Like what you see? Visit the ' +\n",
              "            '<a target=\"_blank\" href=https://colab.research.google.com/notebooks/data_table.ipynb>data table notebook</a>'\n",
              "            + ' to learn more about interactive tables.';\n",
              "          element.innerHTML = '';\n",
              "          dataTable['output_type'] = 'display_data';\n",
              "          await google.colab.output.renderOutput(dataTable, element);\n",
              "          const docLink = document.createElement('div');\n",
              "          docLink.innerHTML = docLinkHtml;\n",
              "          element.appendChild(docLink);\n",
              "        }\n",
              "      </script>\n",
              "    </div>\n",
              "  </div>\n",
              "  "
            ]
          },
          "metadata": {},
          "execution_count": 130
        }
      ]
    },
    {
      "cell_type": "code",
      "source": [
        "y"
      ],
      "metadata": {
        "colab": {
          "base_uri": "https://localhost:8080/"
        },
        "id": "tdKVBMxzeOts",
        "outputId": "9ef595b4-2060-466f-bd08-4963115421c6"
      },
      "execution_count": 131,
      "outputs": [
        {
          "output_type": "execute_result",
          "data": {
            "text/plain": [
              "0      7\n",
              "1      7\n",
              "2      7\n",
              "3      7\n",
              "4      7\n",
              "      ..\n",
              "195    7\n",
              "196    7\n",
              "197    7\n",
              "198    7\n",
              "199    7\n",
              "Name: Age, Length: 200, dtype: int64"
            ]
          },
          "metadata": {},
          "execution_count": 131
        }
      ]
    },
    {
      "cell_type": "code",
      "source": [
        "from sklearn.preprocessing import StandardScaler,MinMaxScaler\n",
        "SS=StandardScaler()\n",
        "x_scale=SS.fit_transform(x)\n",
        "x_scale"
      ],
      "metadata": {
        "colab": {
          "base_uri": "https://localhost:8080/"
        },
        "id": "TMhIRyaxe1iE",
        "outputId": "e42433da-fb48-447e-da23-90e012eec50e"
      },
      "execution_count": 132,
      "outputs": [
        {
          "output_type": "execute_result",
          "data": {
            "text/plain": [
              "array([[-1.7234121 ,  1.12815215,  0.        ,  0.13536205],\n",
              "       [-1.70609137,  1.12815215,  0.        ,  0.13536205],\n",
              "       [-1.68877065, -0.88640526,  0.        , -1.04169925],\n",
              "       [-1.67144992, -0.88640526,  0.        ,  0.13536205],\n",
              "       [-1.6541292 , -0.88640526,  0.        ,  0.13536205],\n",
              "       [-1.63680847, -0.88640526,  0.        ,  0.13536205],\n",
              "       [-1.61948775, -0.88640526,  0.        , -1.04169925],\n",
              "       [-1.60216702, -0.88640526,  0.        ,  0.13536205],\n",
              "       [-1.5848463 ,  1.12815215,  0.        , -4.57288316],\n",
              "       [-1.56752558, -0.88640526,  0.        ,  0.13536205],\n",
              "       [-1.55020485,  1.12815215,  0.        ,  0.13536205],\n",
              "       [-1.53288413, -0.88640526,  0.        ,  0.13536205],\n",
              "       [-1.5155634 , -0.88640526,  0.        ,  0.13536205],\n",
              "       [-1.49824268, -0.88640526,  0.        ,  0.13536205],\n",
              "       [-1.48092195,  1.12815215,  0.        ,  0.13536205],\n",
              "       [-1.46360123,  1.12815215,  0.        ,  0.13536205],\n",
              "       [-1.4462805 , -0.88640526,  0.        ,  0.13536205],\n",
              "       [-1.42895978,  1.12815215,  0.        ,  0.13536205],\n",
              "       [-1.41163905,  1.12815215,  0.        ,  0.13536205],\n",
              "       [-1.39431833, -0.88640526,  0.        ,  0.13536205],\n",
              "       [-1.3769976 ,  1.12815215,  0.        ,  0.13536205],\n",
              "       [-1.35967688,  1.12815215,  0.        ,  0.13536205],\n",
              "       [-1.34235616, -0.88640526,  0.        , -2.21876056],\n",
              "       [-1.32503543,  1.12815215,  0.        ,  0.13536205],\n",
              "       [-1.30771471, -0.88640526,  0.        ,  0.13536205],\n",
              "       [-1.29039398,  1.12815215,  0.        ,  0.13536205],\n",
              "       [-1.27307326, -0.88640526,  0.        ,  0.13536205],\n",
              "       [-1.25575253,  1.12815215,  0.        ,  0.13536205],\n",
              "       [-1.23843181, -0.88640526,  0.        ,  0.13536205],\n",
              "       [-1.22111108, -0.88640526,  0.        ,  0.13536205],\n",
              "       [-1.20379036,  1.12815215,  0.        , -3.39582186],\n",
              "       [-1.18646963, -0.88640526,  0.        ,  0.13536205],\n",
              "       [-1.16914891,  1.12815215,  0.        , -3.39582186],\n",
              "       [-1.15182818,  1.12815215,  0.        ,  0.13536205],\n",
              "       [-1.13450746, -0.88640526,  0.        ,  0.13536205],\n",
              "       [-1.11718674, -0.88640526,  0.        ,  0.13536205],\n",
              "       [-1.09986601, -0.88640526,  0.        ,  0.13536205],\n",
              "       [-1.08254529, -0.88640526,  0.        ,  0.13536205],\n",
              "       [-1.06522456, -0.88640526,  0.        ,  0.13536205],\n",
              "       [-1.04790384, -0.88640526,  0.        ,  0.13536205],\n",
              "       [-1.03058311, -0.88640526,  0.        ,  0.13536205],\n",
              "       [-1.01326239,  1.12815215,  0.        ,  0.13536205],\n",
              "       [-0.99594166,  1.12815215,  0.        ,  0.13536205],\n",
              "       [-0.97862094, -0.88640526,  0.        ,  0.13536205],\n",
              "       [-0.96130021, -0.88640526,  0.        ,  0.13536205],\n",
              "       [-0.94397949, -0.88640526,  0.        ,  0.13536205],\n",
              "       [-0.92665877, -0.88640526,  0.        ,  0.13536205],\n",
              "       [-0.90933804, -0.88640526,  0.        ,  0.13536205],\n",
              "       [-0.89201732, -0.88640526,  0.        ,  0.13536205],\n",
              "       [-0.87469659, -0.88640526,  0.        ,  0.13536205],\n",
              "       [-0.85737587, -0.88640526,  0.        ,  0.13536205],\n",
              "       [-0.84005514,  1.12815215,  0.        ,  0.13536205],\n",
              "       [-0.82273442, -0.88640526,  0.        ,  0.13536205],\n",
              "       [-0.80541369,  1.12815215,  0.        ,  0.13536205],\n",
              "       [-0.78809297, -0.88640526,  0.        ,  0.13536205],\n",
              "       [-0.77077224,  1.12815215,  0.        ,  0.13536205],\n",
              "       [-0.75345152, -0.88640526,  0.        ,  0.13536205],\n",
              "       [-0.73613079,  1.12815215,  0.        ,  0.13536205],\n",
              "       [-0.71881007, -0.88640526,  0.        ,  0.13536205],\n",
              "       [-0.70148935,  1.12815215,  0.        ,  0.13536205],\n",
              "       [-0.68416862,  1.12815215,  0.        ,  0.13536205],\n",
              "       [-0.6668479 ,  1.12815215,  0.        ,  0.13536205],\n",
              "       [-0.64952717, -0.88640526,  0.        ,  0.13536205],\n",
              "       [-0.63220645, -0.88640526,  0.        ,  0.13536205],\n",
              "       [-0.61488572,  1.12815215,  0.        ,  0.13536205],\n",
              "       [-0.597565  ,  1.12815215,  0.        ,  0.13536205],\n",
              "       [-0.58024427, -0.88640526,  0.        ,  0.13536205],\n",
              "       [-0.56292355, -0.88640526,  0.        ,  0.13536205],\n",
              "       [-0.54560282,  1.12815215,  0.        ,  0.13536205],\n",
              "       [-0.5282821 , -0.88640526,  0.        ,  0.13536205],\n",
              "       [-0.51096138,  1.12815215,  0.        ,  0.13536205],\n",
              "       [-0.49364065, -0.88640526,  0.        ,  0.13536205],\n",
              "       [-0.47631993, -0.88640526,  0.        ,  0.13536205],\n",
              "       [-0.4589992 , -0.88640526,  0.        ,  0.13536205],\n",
              "       [-0.44167848,  1.12815215,  0.        ,  0.13536205],\n",
              "       [-0.42435775,  1.12815215,  0.        ,  0.13536205],\n",
              "       [-0.40703703, -0.88640526,  0.        ,  0.13536205],\n",
              "       [-0.3897163 ,  1.12815215,  0.        ,  0.13536205],\n",
              "       [-0.37239558, -0.88640526,  0.        ,  0.13536205],\n",
              "       [-0.35507485, -0.88640526,  0.        ,  0.13536205],\n",
              "       [-0.33775413,  1.12815215,  0.        ,  0.13536205],\n",
              "       [-0.3204334 ,  1.12815215,  0.        ,  0.13536205],\n",
              "       [-0.30311268,  1.12815215,  0.        ,  0.13536205],\n",
              "       [-0.28579196, -0.88640526,  0.        ,  0.13536205],\n",
              "       [-0.26847123, -0.88640526,  0.        ,  0.13536205],\n",
              "       [-0.25115051,  1.12815215,  0.        ,  0.13536205],\n",
              "       [-0.23382978, -0.88640526,  0.        ,  0.13536205],\n",
              "       [-0.21650906, -0.88640526,  0.        ,  0.13536205],\n",
              "       [-0.19918833, -0.88640526,  0.        ,  0.13536205],\n",
              "       [-0.18186761, -0.88640526,  0.        ,  0.13536205],\n",
              "       [-0.16454688, -0.88640526,  0.        ,  0.13536205],\n",
              "       [-0.14722616,  1.12815215,  0.        ,  0.13536205],\n",
              "       [-0.12990543,  1.12815215,  0.        ,  0.13536205],\n",
              "       [-0.11258471, -0.88640526,  0.        ,  0.13536205],\n",
              "       [-0.09526399, -0.88640526,  0.        ,  0.13536205],\n",
              "       [-0.07794326,  1.12815215,  0.        ,  0.13536205],\n",
              "       [-0.06062254, -0.88640526,  0.        ,  0.13536205],\n",
              "       [-0.04330181, -0.88640526,  0.        ,  0.13536205],\n",
              "       [-0.02598109,  1.12815215,  0.        ,  0.13536205],\n",
              "       [-0.00866036,  1.12815215,  0.        ,  0.13536205],\n",
              "       [ 0.00866036, -0.88640526,  0.        ,  0.13536205],\n",
              "       [ 0.02598109, -0.88640526,  0.        ,  0.13536205],\n",
              "       [ 0.04330181,  1.12815215,  0.        ,  0.13536205],\n",
              "       [ 0.06062254,  1.12815215,  0.        ,  0.13536205],\n",
              "       [ 0.07794326,  1.12815215,  0.        ,  0.13536205],\n",
              "       [ 0.09526399, -0.88640526,  0.        ,  0.13536205],\n",
              "       [ 0.11258471, -0.88640526,  0.        ,  0.13536205],\n",
              "       [ 0.12990543,  1.12815215,  0.        ,  0.13536205],\n",
              "       [ 0.14722616,  1.12815215,  0.        ,  0.13536205],\n",
              "       [ 0.16454688,  1.12815215,  0.        ,  0.13536205],\n",
              "       [ 0.18186761,  1.12815215,  0.        ,  0.13536205],\n",
              "       [ 0.19918833, -0.88640526,  0.        ,  0.13536205],\n",
              "       [ 0.21650906, -0.88640526,  0.        ,  0.13536205],\n",
              "       [ 0.23382978,  1.12815215,  0.        ,  0.13536205],\n",
              "       [ 0.25115051, -0.88640526,  0.        ,  0.13536205],\n",
              "       [ 0.26847123, -0.88640526,  0.        ,  0.13536205],\n",
              "       [ 0.28579196, -0.88640526,  0.        ,  0.13536205],\n",
              "       [ 0.30311268, -0.88640526,  0.        ,  0.13536205],\n",
              "       [ 0.3204334 , -0.88640526,  0.        ,  0.13536205],\n",
              "       [ 0.33775413, -0.88640526,  0.        ,  0.13536205],\n",
              "       [ 0.35507485,  1.12815215,  0.        ,  0.13536205],\n",
              "       [ 0.37239558, -0.88640526,  0.        ,  0.13536205],\n",
              "       [ 0.3897163 , -0.88640526,  0.        ,  0.13536205],\n",
              "       [ 0.40703703,  1.12815215,  0.        ,  0.13536205],\n",
              "       [ 0.42435775, -0.88640526,  0.        ,  0.13536205],\n",
              "       [ 0.44167848, -0.88640526,  0.        ,  0.13536205],\n",
              "       [ 0.4589992 ,  1.12815215,  0.        ,  0.13536205],\n",
              "       [ 0.47631993,  1.12815215,  0.        ,  0.13536205],\n",
              "       [ 0.49364065,  1.12815215,  0.        ,  0.13536205],\n",
              "       [ 0.51096138,  1.12815215,  0.        ,  0.13536205],\n",
              "       [ 0.5282821 ,  1.12815215,  0.        ,  2.48948466],\n",
              "       [ 0.54560282,  1.12815215,  0.        ,  0.13536205],\n",
              "       [ 0.56292355, -0.88640526,  0.        ,  0.13536205],\n",
              "       [ 0.58024427, -0.88640526,  0.        ,  0.13536205],\n",
              "       [ 0.597565  ,  1.12815215,  0.        , -2.21876056],\n",
              "       [ 0.61488572, -0.88640526,  0.        ,  0.13536205],\n",
              "       [ 0.63220645, -0.88640526,  0.        ,  0.13536205],\n",
              "       [ 0.64952717,  1.12815215,  0.        ,  0.13536205],\n",
              "       [ 0.6668479 ,  1.12815215,  0.        ,  3.66654596],\n",
              "       [ 0.68416862, -0.88640526,  0.        ,  0.13536205],\n",
              "       [ 0.70148935, -0.88640526,  0.        , -2.21876056],\n",
              "       [ 0.71881007,  1.12815215,  0.        ,  0.13536205],\n",
              "       [ 0.73613079, -0.88640526,  0.        ,  0.13536205],\n",
              "       [ 0.75345152, -0.88640526,  0.        ,  0.13536205],\n",
              "       [ 0.77077224,  1.12815215,  0.        ,  0.13536205],\n",
              "       [ 0.78809297,  1.12815215,  0.        ,  0.13536205],\n",
              "       [ 0.80541369,  1.12815215,  0.        ,  0.13536205],\n",
              "       [ 0.82273442, -0.88640526,  0.        ,  0.13536205],\n",
              "       [ 0.84005514, -0.88640526,  0.        ,  0.13536205],\n",
              "       [ 0.85737587,  1.12815215,  0.        ,  0.13536205],\n",
              "       [ 0.87469659,  1.12815215,  0.        ,  0.13536205],\n",
              "       [ 0.89201732,  1.12815215,  0.        ,  0.13536205],\n",
              "       [ 0.90933804, -0.88640526,  0.        ,  0.13536205],\n",
              "       [ 0.92665877, -0.88640526,  0.        ,  0.13536205],\n",
              "       [ 0.94397949, -0.88640526,  0.        ,  0.13536205],\n",
              "       [ 0.96130021, -0.88640526,  0.        ,  0.13536205],\n",
              "       [ 0.97862094,  1.12815215,  0.        , -6.92700577],\n",
              "       [ 0.99594166, -0.88640526,  0.        ,  0.13536205],\n",
              "       [ 1.01326239,  1.12815215,  0.        , -6.92700577],\n",
              "       [ 1.03058311, -0.88640526,  0.        ,  0.13536205],\n",
              "       [ 1.04790384, -0.88640526,  0.        ,  0.13536205],\n",
              "       [ 1.06522456, -0.88640526,  0.        ,  0.13536205],\n",
              "       [ 1.08254529,  1.12815215,  0.        , -2.21876056],\n",
              "       [ 1.09986601, -0.88640526,  0.        ,  0.13536205],\n",
              "       [ 1.11718674,  1.12815215,  0.        ,  0.13536205],\n",
              "       [ 1.13450746, -0.88640526,  0.        ,  0.13536205],\n",
              "       [ 1.15182818,  1.12815215,  0.        ,  0.13536205],\n",
              "       [ 1.16914891, -0.88640526,  0.        ,  0.13536205],\n",
              "       [ 1.18646963, -0.88640526,  0.        ,  0.13536205],\n",
              "       [ 1.20379036,  1.12815215,  0.        ,  0.13536205],\n",
              "       [ 1.22111108,  1.12815215,  0.        ,  0.13536205],\n",
              "       [ 1.23843181,  1.12815215,  0.        ,  0.13536205],\n",
              "       [ 1.25575253,  1.12815215,  0.        ,  3.66654596],\n",
              "       [ 1.27307326,  1.12815215,  0.        ,  0.13536205],\n",
              "       [ 1.29039398, -0.88640526,  0.        ,  0.13536205],\n",
              "       [ 1.30771471, -0.88640526,  0.        ,  0.13536205],\n",
              "       [ 1.32503543,  1.12815215,  0.        ,  0.13536205],\n",
              "       [ 1.34235616,  1.12815215,  0.        ,  0.13536205],\n",
              "       [ 1.35967688,  1.12815215,  0.        ,  0.13536205],\n",
              "       [ 1.3769976 ,  1.12815215,  0.        ,  0.13536205],\n",
              "       [ 1.39431833, -0.88640526,  0.        ,  0.13536205],\n",
              "       [ 1.41163905, -0.88640526,  0.        ,  0.13536205],\n",
              "       [ 1.42895978,  1.12815215,  0.        ,  0.13536205],\n",
              "       [ 1.4462805 , -0.88640526,  0.        ,  0.13536205],\n",
              "       [ 1.46360123, -0.88640526,  0.        ,  0.13536205],\n",
              "       [ 1.48092195,  1.12815215,  0.        ,  0.13536205],\n",
              "       [ 1.49824268, -0.88640526,  0.        ,  0.13536205],\n",
              "       [ 1.5155634 ,  1.12815215,  0.        ,  0.13536205],\n",
              "       [ 1.53288413, -0.88640526,  0.        ,  0.13536205],\n",
              "       [ 1.55020485, -0.88640526,  0.        ,  0.13536205],\n",
              "       [ 1.56752558, -0.88640526,  0.        ,  0.13536205],\n",
              "       [ 1.5848463 , -0.88640526,  0.        ,  0.13536205],\n",
              "       [ 1.60216702,  1.12815215,  0.        ,  1.31242335],\n",
              "       [ 1.61948775, -0.88640526,  0.        ,  0.13536205],\n",
              "       [ 1.63680847, -0.88640526,  0.        ,  0.13536205],\n",
              "       [ 1.6541292 , -0.88640526,  0.        ,  0.13536205],\n",
              "       [ 1.67144992, -0.88640526,  0.        ,  0.13536205],\n",
              "       [ 1.68877065,  1.12815215,  0.        ,  0.13536205],\n",
              "       [ 1.70609137,  1.12815215,  0.        ,  0.13536205],\n",
              "       [ 1.7234121 ,  1.12815215,  0.        ,  0.13536205]])"
            ]
          },
          "metadata": {},
          "execution_count": 132
        }
      ]
    },
    {
      "cell_type": "markdown",
      "source": [
        "#9. Perform any of the clustering algorithms"
      ],
      "metadata": {
        "id": "igjfzdd_e_wW"
      }
    },
    {
      "cell_type": "code",
      "source": [
        "from sklearn.cluster import KMeans\n",
        "km=KMeans()\n",
        "clustering=km.fit_predict(x_scale)\n",
        "clustering"
      ],
      "metadata": {
        "colab": {
          "base_uri": "https://localhost:8080/"
        },
        "id": "EwtSb1tbfBNs",
        "outputId": "efc26255-591e-48fb-da1f-389e427a906e"
      },
      "execution_count": 135,
      "outputs": [
        {
          "output_type": "execute_result",
          "data": {
            "text/plain": [
              "array([4, 4, 0, 0, 0, 0, 0, 0, 6, 0, 4, 0, 0, 0, 4, 4, 0, 4, 4, 0, 4, 4,\n",
              "       6, 4, 0, 4, 0, 4, 0, 0, 6, 0, 6, 4, 0, 0, 0, 0, 0, 0, 0, 4, 4, 0,\n",
              "       0, 0, 0, 0, 0, 0, 0, 4, 0, 4, 0, 4, 0, 4, 0, 4, 4, 4, 0, 0, 4, 4,\n",
              "       5, 5, 4, 5, 4, 5, 5, 5, 4, 4, 5, 4, 5, 5, 4, 4, 4, 5, 5, 4, 5, 5,\n",
              "       5, 5, 5, 4, 4, 5, 5, 4, 5, 5, 4, 4, 5, 5, 1, 1, 1, 5, 5, 1, 1, 1,\n",
              "       1, 5, 5, 1, 5, 5, 5, 5, 5, 5, 1, 5, 5, 1, 5, 5, 1, 1, 1, 1, 7, 1,\n",
              "       2, 2, 6, 2, 2, 1, 7, 2, 6, 1, 2, 2, 1, 1, 1, 2, 2, 1, 1, 1, 2, 2,\n",
              "       2, 2, 3, 2, 3, 2, 2, 2, 6, 2, 1, 2, 1, 2, 2, 1, 1, 1, 7, 1, 2, 2,\n",
              "       1, 1, 1, 1, 2, 2, 1, 2, 2, 1, 2, 1, 2, 2, 2, 2, 1, 2, 2, 2, 2, 1,\n",
              "       1, 1], dtype=int32)"
            ]
          },
          "metadata": {},
          "execution_count": 135
        }
      ]
    },
    {
      "cell_type": "markdown",
      "source": [
        "#10. Add the cluster data with the primary dataset"
      ],
      "metadata": {
        "id": "DldvVGaffbsr"
      }
    },
    {
      "cell_type": "code",
      "source": [
        "rv.columns"
      ],
      "metadata": {
        "colab": {
          "base_uri": "https://localhost:8080/"
        },
        "id": "0MDslpdGfgvE",
        "outputId": "88515093-d5b2-4e33-ec9c-10da18b6d62e"
      },
      "execution_count": 136,
      "outputs": [
        {
          "output_type": "execute_result",
          "data": {
            "text/plain": [
              "Index(['CustomerID', 'Gender', 'Age', 'Annual Income (k$)',\n",
              "       'Spending Score (1-100)'],\n",
              "      dtype='object')"
            ]
          },
          "metadata": {},
          "execution_count": 136
        }
      ]
    },
    {
      "cell_type": "code",
      "source": [
        "rv1=pd.DataFrame(x_scale,columns=['Gender','Age','Annual Income (k$)','Spending Score (1-100)'])\n",
        "rv1.head()"
      ],
      "metadata": {
        "colab": {
          "base_uri": "https://localhost:8080/",
          "height": 206
        },
        "id": "1AzfwQTjftDX",
        "outputId": "c03060bc-3283-4c95-dce2-25632341a70e"
      },
      "execution_count": 137,
      "outputs": [
        {
          "output_type": "execute_result",
          "data": {
            "text/plain": [
              "     Gender       Age  Annual Income (k$)  Spending Score (1-100)\n",
              "0 -1.723412  1.128152                 0.0                0.135362\n",
              "1 -1.706091  1.128152                 0.0                0.135362\n",
              "2 -1.688771 -0.886405                 0.0               -1.041699\n",
              "3 -1.671450 -0.886405                 0.0                0.135362\n",
              "4 -1.654129 -0.886405                 0.0                0.135362"
            ],
            "text/html": [
              "\n",
              "  <div id=\"df-c48650f1-eba4-4989-9684-6a2ef1fc4033\">\n",
              "    <div class=\"colab-df-container\">\n",
              "      <div>\n",
              "<style scoped>\n",
              "    .dataframe tbody tr th:only-of-type {\n",
              "        vertical-align: middle;\n",
              "    }\n",
              "\n",
              "    .dataframe tbody tr th {\n",
              "        vertical-align: top;\n",
              "    }\n",
              "\n",
              "    .dataframe thead th {\n",
              "        text-align: right;\n",
              "    }\n",
              "</style>\n",
              "<table border=\"1\" class=\"dataframe\">\n",
              "  <thead>\n",
              "    <tr style=\"text-align: right;\">\n",
              "      <th></th>\n",
              "      <th>Gender</th>\n",
              "      <th>Age</th>\n",
              "      <th>Annual Income (k$)</th>\n",
              "      <th>Spending Score (1-100)</th>\n",
              "    </tr>\n",
              "  </thead>\n",
              "  <tbody>\n",
              "    <tr>\n",
              "      <th>0</th>\n",
              "      <td>-1.723412</td>\n",
              "      <td>1.128152</td>\n",
              "      <td>0.0</td>\n",
              "      <td>0.135362</td>\n",
              "    </tr>\n",
              "    <tr>\n",
              "      <th>1</th>\n",
              "      <td>-1.706091</td>\n",
              "      <td>1.128152</td>\n",
              "      <td>0.0</td>\n",
              "      <td>0.135362</td>\n",
              "    </tr>\n",
              "    <tr>\n",
              "      <th>2</th>\n",
              "      <td>-1.688771</td>\n",
              "      <td>-0.886405</td>\n",
              "      <td>0.0</td>\n",
              "      <td>-1.041699</td>\n",
              "    </tr>\n",
              "    <tr>\n",
              "      <th>3</th>\n",
              "      <td>-1.671450</td>\n",
              "      <td>-0.886405</td>\n",
              "      <td>0.0</td>\n",
              "      <td>0.135362</td>\n",
              "    </tr>\n",
              "    <tr>\n",
              "      <th>4</th>\n",
              "      <td>-1.654129</td>\n",
              "      <td>-0.886405</td>\n",
              "      <td>0.0</td>\n",
              "      <td>0.135362</td>\n",
              "    </tr>\n",
              "  </tbody>\n",
              "</table>\n",
              "</div>\n",
              "      <button class=\"colab-df-convert\" onclick=\"convertToInteractive('df-c48650f1-eba4-4989-9684-6a2ef1fc4033')\"\n",
              "              title=\"Convert this dataframe to an interactive table.\"\n",
              "              style=\"display:none;\">\n",
              "        \n",
              "  <svg xmlns=\"http://www.w3.org/2000/svg\" height=\"24px\"viewBox=\"0 0 24 24\"\n",
              "       width=\"24px\">\n",
              "    <path d=\"M0 0h24v24H0V0z\" fill=\"none\"/>\n",
              "    <path d=\"M18.56 5.44l.94 2.06.94-2.06 2.06-.94-2.06-.94-.94-2.06-.94 2.06-2.06.94zm-11 1L8.5 8.5l.94-2.06 2.06-.94-2.06-.94L8.5 2.5l-.94 2.06-2.06.94zm10 10l.94 2.06.94-2.06 2.06-.94-2.06-.94-.94-2.06-.94 2.06-2.06.94z\"/><path d=\"M17.41 7.96l-1.37-1.37c-.4-.4-.92-.59-1.43-.59-.52 0-1.04.2-1.43.59L10.3 9.45l-7.72 7.72c-.78.78-.78 2.05 0 2.83L4 21.41c.39.39.9.59 1.41.59.51 0 1.02-.2 1.41-.59l7.78-7.78 2.81-2.81c.8-.78.8-2.07 0-2.86zM5.41 20L4 18.59l7.72-7.72 1.47 1.35L5.41 20z\"/>\n",
              "  </svg>\n",
              "      </button>\n",
              "      \n",
              "  <style>\n",
              "    .colab-df-container {\n",
              "      display:flex;\n",
              "      flex-wrap:wrap;\n",
              "      gap: 12px;\n",
              "    }\n",
              "\n",
              "    .colab-df-convert {\n",
              "      background-color: #E8F0FE;\n",
              "      border: none;\n",
              "      border-radius: 50%;\n",
              "      cursor: pointer;\n",
              "      display: none;\n",
              "      fill: #1967D2;\n",
              "      height: 32px;\n",
              "      padding: 0 0 0 0;\n",
              "      width: 32px;\n",
              "    }\n",
              "\n",
              "    .colab-df-convert:hover {\n",
              "      background-color: #E2EBFA;\n",
              "      box-shadow: 0px 1px 2px rgba(60, 64, 67, 0.3), 0px 1px 3px 1px rgba(60, 64, 67, 0.15);\n",
              "      fill: #174EA6;\n",
              "    }\n",
              "\n",
              "    [theme=dark] .colab-df-convert {\n",
              "      background-color: #3B4455;\n",
              "      fill: #D2E3FC;\n",
              "    }\n",
              "\n",
              "    [theme=dark] .colab-df-convert:hover {\n",
              "      background-color: #434B5C;\n",
              "      box-shadow: 0px 1px 3px 1px rgba(0, 0, 0, 0.15);\n",
              "      filter: drop-shadow(0px 1px 2px rgba(0, 0, 0, 0.3));\n",
              "      fill: #FFFFFF;\n",
              "    }\n",
              "  </style>\n",
              "\n",
              "      <script>\n",
              "        const buttonEl =\n",
              "          document.querySelector('#df-c48650f1-eba4-4989-9684-6a2ef1fc4033 button.colab-df-convert');\n",
              "        buttonEl.style.display =\n",
              "          google.colab.kernel.accessAllowed ? 'block' : 'none';\n",
              "\n",
              "        async function convertToInteractive(key) {\n",
              "          const element = document.querySelector('#df-c48650f1-eba4-4989-9684-6a2ef1fc4033');\n",
              "          const dataTable =\n",
              "            await google.colab.kernel.invokeFunction('convertToInteractive',\n",
              "                                                     [key], {});\n",
              "          if (!dataTable) return;\n",
              "\n",
              "          const docLinkHtml = 'Like what you see? Visit the ' +\n",
              "            '<a target=\"_blank\" href=https://colab.research.google.com/notebooks/data_table.ipynb>data table notebook</a>'\n",
              "            + ' to learn more about interactive tables.';\n",
              "          element.innerHTML = '';\n",
              "          dataTable['output_type'] = 'display_data';\n",
              "          await google.colab.output.renderOutput(dataTable, element);\n",
              "          const docLink = document.createElement('div');\n",
              "          docLink.innerHTML = docLinkHtml;\n",
              "          element.appendChild(docLink);\n",
              "        }\n",
              "      </script>\n",
              "    </div>\n",
              "  </div>\n",
              "  "
            ]
          },
          "metadata": {},
          "execution_count": 137
        }
      ]
    },
    {
      "cell_type": "code",
      "source": [
        "rv1['Clust']=pd.Series(clustering)\n",
        "rv1.head()"
      ],
      "metadata": {
        "colab": {
          "base_uri": "https://localhost:8080/",
          "height": 206
        },
        "id": "a-0YsHZVf1Jt",
        "outputId": "a519f47c-7acd-4eaf-deaa-b03fd732e023"
      },
      "execution_count": 138,
      "outputs": [
        {
          "output_type": "execute_result",
          "data": {
            "text/plain": [
              "     Gender       Age  Annual Income (k$)  Spending Score (1-100)  Clust\n",
              "0 -1.723412  1.128152                 0.0                0.135362      4\n",
              "1 -1.706091  1.128152                 0.0                0.135362      4\n",
              "2 -1.688771 -0.886405                 0.0               -1.041699      0\n",
              "3 -1.671450 -0.886405                 0.0                0.135362      0\n",
              "4 -1.654129 -0.886405                 0.0                0.135362      0"
            ],
            "text/html": [
              "\n",
              "  <div id=\"df-133796b0-a19f-40ba-821a-31658e939d37\">\n",
              "    <div class=\"colab-df-container\">\n",
              "      <div>\n",
              "<style scoped>\n",
              "    .dataframe tbody tr th:only-of-type {\n",
              "        vertical-align: middle;\n",
              "    }\n",
              "\n",
              "    .dataframe tbody tr th {\n",
              "        vertical-align: top;\n",
              "    }\n",
              "\n",
              "    .dataframe thead th {\n",
              "        text-align: right;\n",
              "    }\n",
              "</style>\n",
              "<table border=\"1\" class=\"dataframe\">\n",
              "  <thead>\n",
              "    <tr style=\"text-align: right;\">\n",
              "      <th></th>\n",
              "      <th>Gender</th>\n",
              "      <th>Age</th>\n",
              "      <th>Annual Income (k$)</th>\n",
              "      <th>Spending Score (1-100)</th>\n",
              "      <th>Clust</th>\n",
              "    </tr>\n",
              "  </thead>\n",
              "  <tbody>\n",
              "    <tr>\n",
              "      <th>0</th>\n",
              "      <td>-1.723412</td>\n",
              "      <td>1.128152</td>\n",
              "      <td>0.0</td>\n",
              "      <td>0.135362</td>\n",
              "      <td>4</td>\n",
              "    </tr>\n",
              "    <tr>\n",
              "      <th>1</th>\n",
              "      <td>-1.706091</td>\n",
              "      <td>1.128152</td>\n",
              "      <td>0.0</td>\n",
              "      <td>0.135362</td>\n",
              "      <td>4</td>\n",
              "    </tr>\n",
              "    <tr>\n",
              "      <th>2</th>\n",
              "      <td>-1.688771</td>\n",
              "      <td>-0.886405</td>\n",
              "      <td>0.0</td>\n",
              "      <td>-1.041699</td>\n",
              "      <td>0</td>\n",
              "    </tr>\n",
              "    <tr>\n",
              "      <th>3</th>\n",
              "      <td>-1.671450</td>\n",
              "      <td>-0.886405</td>\n",
              "      <td>0.0</td>\n",
              "      <td>0.135362</td>\n",
              "      <td>0</td>\n",
              "    </tr>\n",
              "    <tr>\n",
              "      <th>4</th>\n",
              "      <td>-1.654129</td>\n",
              "      <td>-0.886405</td>\n",
              "      <td>0.0</td>\n",
              "      <td>0.135362</td>\n",
              "      <td>0</td>\n",
              "    </tr>\n",
              "  </tbody>\n",
              "</table>\n",
              "</div>\n",
              "      <button class=\"colab-df-convert\" onclick=\"convertToInteractive('df-133796b0-a19f-40ba-821a-31658e939d37')\"\n",
              "              title=\"Convert this dataframe to an interactive table.\"\n",
              "              style=\"display:none;\">\n",
              "        \n",
              "  <svg xmlns=\"http://www.w3.org/2000/svg\" height=\"24px\"viewBox=\"0 0 24 24\"\n",
              "       width=\"24px\">\n",
              "    <path d=\"M0 0h24v24H0V0z\" fill=\"none\"/>\n",
              "    <path d=\"M18.56 5.44l.94 2.06.94-2.06 2.06-.94-2.06-.94-.94-2.06-.94 2.06-2.06.94zm-11 1L8.5 8.5l.94-2.06 2.06-.94-2.06-.94L8.5 2.5l-.94 2.06-2.06.94zm10 10l.94 2.06.94-2.06 2.06-.94-2.06-.94-.94-2.06-.94 2.06-2.06.94z\"/><path d=\"M17.41 7.96l-1.37-1.37c-.4-.4-.92-.59-1.43-.59-.52 0-1.04.2-1.43.59L10.3 9.45l-7.72 7.72c-.78.78-.78 2.05 0 2.83L4 21.41c.39.39.9.59 1.41.59.51 0 1.02-.2 1.41-.59l7.78-7.78 2.81-2.81c.8-.78.8-2.07 0-2.86zM5.41 20L4 18.59l7.72-7.72 1.47 1.35L5.41 20z\"/>\n",
              "  </svg>\n",
              "      </button>\n",
              "      \n",
              "  <style>\n",
              "    .colab-df-container {\n",
              "      display:flex;\n",
              "      flex-wrap:wrap;\n",
              "      gap: 12px;\n",
              "    }\n",
              "\n",
              "    .colab-df-convert {\n",
              "      background-color: #E8F0FE;\n",
              "      border: none;\n",
              "      border-radius: 50%;\n",
              "      cursor: pointer;\n",
              "      display: none;\n",
              "      fill: #1967D2;\n",
              "      height: 32px;\n",
              "      padding: 0 0 0 0;\n",
              "      width: 32px;\n",
              "    }\n",
              "\n",
              "    .colab-df-convert:hover {\n",
              "      background-color: #E2EBFA;\n",
              "      box-shadow: 0px 1px 2px rgba(60, 64, 67, 0.3), 0px 1px 3px 1px rgba(60, 64, 67, 0.15);\n",
              "      fill: #174EA6;\n",
              "    }\n",
              "\n",
              "    [theme=dark] .colab-df-convert {\n",
              "      background-color: #3B4455;\n",
              "      fill: #D2E3FC;\n",
              "    }\n",
              "\n",
              "    [theme=dark] .colab-df-convert:hover {\n",
              "      background-color: #434B5C;\n",
              "      box-shadow: 0px 1px 3px 1px rgba(0, 0, 0, 0.15);\n",
              "      filter: drop-shadow(0px 1px 2px rgba(0, 0, 0, 0.3));\n",
              "      fill: #FFFFFF;\n",
              "    }\n",
              "  </style>\n",
              "\n",
              "      <script>\n",
              "        const buttonEl =\n",
              "          document.querySelector('#df-133796b0-a19f-40ba-821a-31658e939d37 button.colab-df-convert');\n",
              "        buttonEl.style.display =\n",
              "          google.colab.kernel.accessAllowed ? 'block' : 'none';\n",
              "\n",
              "        async function convertToInteractive(key) {\n",
              "          const element = document.querySelector('#df-133796b0-a19f-40ba-821a-31658e939d37');\n",
              "          const dataTable =\n",
              "            await google.colab.kernel.invokeFunction('convertToInteractive',\n",
              "                                                     [key], {});\n",
              "          if (!dataTable) return;\n",
              "\n",
              "          const docLinkHtml = 'Like what you see? Visit the ' +\n",
              "            '<a target=\"_blank\" href=https://colab.research.google.com/notebooks/data_table.ipynb>data table notebook</a>'\n",
              "            + ' to learn more about interactive tables.';\n",
              "          element.innerHTML = '';\n",
              "          dataTable['output_type'] = 'display_data';\n",
              "          await google.colab.output.renderOutput(dataTable, element);\n",
              "          const docLink = document.createElement('div');\n",
              "          docLink.innerHTML = docLinkHtml;\n",
              "          element.appendChild(docLink);\n",
              "        }\n",
              "      </script>\n",
              "    </div>\n",
              "  </div>\n",
              "  "
            ]
          },
          "metadata": {},
          "execution_count": 138
        }
      ]
    },
    {
      "cell_type": "markdown",
      "source": [
        "#11. Split the data into dependent and independent variables."
      ],
      "metadata": {
        "id": "mlCiEsRwf6cV"
      }
    },
    {
      "cell_type": "code",
      "source": [
        "x=rv1.iloc[:,0:4]\n",
        "x"
      ],
      "metadata": {
        "colab": {
          "base_uri": "https://localhost:8080/",
          "height": 424
        },
        "id": "rYFeSoCMf8vO",
        "outputId": "47824b82-caf6-42e8-b4e8-8997b0ec79ce"
      },
      "execution_count": 139,
      "outputs": [
        {
          "output_type": "execute_result",
          "data": {
            "text/plain": [
              "       Gender       Age  Annual Income (k$)  Spending Score (1-100)\n",
              "0   -1.723412  1.128152                 0.0                0.135362\n",
              "1   -1.706091  1.128152                 0.0                0.135362\n",
              "2   -1.688771 -0.886405                 0.0               -1.041699\n",
              "3   -1.671450 -0.886405                 0.0                0.135362\n",
              "4   -1.654129 -0.886405                 0.0                0.135362\n",
              "..        ...       ...                 ...                     ...\n",
              "195  1.654129 -0.886405                 0.0                0.135362\n",
              "196  1.671450 -0.886405                 0.0                0.135362\n",
              "197  1.688771  1.128152                 0.0                0.135362\n",
              "198  1.706091  1.128152                 0.0                0.135362\n",
              "199  1.723412  1.128152                 0.0                0.135362\n",
              "\n",
              "[200 rows x 4 columns]"
            ],
            "text/html": [
              "\n",
              "  <div id=\"df-3dbb0f8c-c128-4b45-8855-3d4dc2574f29\">\n",
              "    <div class=\"colab-df-container\">\n",
              "      <div>\n",
              "<style scoped>\n",
              "    .dataframe tbody tr th:only-of-type {\n",
              "        vertical-align: middle;\n",
              "    }\n",
              "\n",
              "    .dataframe tbody tr th {\n",
              "        vertical-align: top;\n",
              "    }\n",
              "\n",
              "    .dataframe thead th {\n",
              "        text-align: right;\n",
              "    }\n",
              "</style>\n",
              "<table border=\"1\" class=\"dataframe\">\n",
              "  <thead>\n",
              "    <tr style=\"text-align: right;\">\n",
              "      <th></th>\n",
              "      <th>Gender</th>\n",
              "      <th>Age</th>\n",
              "      <th>Annual Income (k$)</th>\n",
              "      <th>Spending Score (1-100)</th>\n",
              "    </tr>\n",
              "  </thead>\n",
              "  <tbody>\n",
              "    <tr>\n",
              "      <th>0</th>\n",
              "      <td>-1.723412</td>\n",
              "      <td>1.128152</td>\n",
              "      <td>0.0</td>\n",
              "      <td>0.135362</td>\n",
              "    </tr>\n",
              "    <tr>\n",
              "      <th>1</th>\n",
              "      <td>-1.706091</td>\n",
              "      <td>1.128152</td>\n",
              "      <td>0.0</td>\n",
              "      <td>0.135362</td>\n",
              "    </tr>\n",
              "    <tr>\n",
              "      <th>2</th>\n",
              "      <td>-1.688771</td>\n",
              "      <td>-0.886405</td>\n",
              "      <td>0.0</td>\n",
              "      <td>-1.041699</td>\n",
              "    </tr>\n",
              "    <tr>\n",
              "      <th>3</th>\n",
              "      <td>-1.671450</td>\n",
              "      <td>-0.886405</td>\n",
              "      <td>0.0</td>\n",
              "      <td>0.135362</td>\n",
              "    </tr>\n",
              "    <tr>\n",
              "      <th>4</th>\n",
              "      <td>-1.654129</td>\n",
              "      <td>-0.886405</td>\n",
              "      <td>0.0</td>\n",
              "      <td>0.135362</td>\n",
              "    </tr>\n",
              "    <tr>\n",
              "      <th>...</th>\n",
              "      <td>...</td>\n",
              "      <td>...</td>\n",
              "      <td>...</td>\n",
              "      <td>...</td>\n",
              "    </tr>\n",
              "    <tr>\n",
              "      <th>195</th>\n",
              "      <td>1.654129</td>\n",
              "      <td>-0.886405</td>\n",
              "      <td>0.0</td>\n",
              "      <td>0.135362</td>\n",
              "    </tr>\n",
              "    <tr>\n",
              "      <th>196</th>\n",
              "      <td>1.671450</td>\n",
              "      <td>-0.886405</td>\n",
              "      <td>0.0</td>\n",
              "      <td>0.135362</td>\n",
              "    </tr>\n",
              "    <tr>\n",
              "      <th>197</th>\n",
              "      <td>1.688771</td>\n",
              "      <td>1.128152</td>\n",
              "      <td>0.0</td>\n",
              "      <td>0.135362</td>\n",
              "    </tr>\n",
              "    <tr>\n",
              "      <th>198</th>\n",
              "      <td>1.706091</td>\n",
              "      <td>1.128152</td>\n",
              "      <td>0.0</td>\n",
              "      <td>0.135362</td>\n",
              "    </tr>\n",
              "    <tr>\n",
              "      <th>199</th>\n",
              "      <td>1.723412</td>\n",
              "      <td>1.128152</td>\n",
              "      <td>0.0</td>\n",
              "      <td>0.135362</td>\n",
              "    </tr>\n",
              "  </tbody>\n",
              "</table>\n",
              "<p>200 rows × 4 columns</p>\n",
              "</div>\n",
              "      <button class=\"colab-df-convert\" onclick=\"convertToInteractive('df-3dbb0f8c-c128-4b45-8855-3d4dc2574f29')\"\n",
              "              title=\"Convert this dataframe to an interactive table.\"\n",
              "              style=\"display:none;\">\n",
              "        \n",
              "  <svg xmlns=\"http://www.w3.org/2000/svg\" height=\"24px\"viewBox=\"0 0 24 24\"\n",
              "       width=\"24px\">\n",
              "    <path d=\"M0 0h24v24H0V0z\" fill=\"none\"/>\n",
              "    <path d=\"M18.56 5.44l.94 2.06.94-2.06 2.06-.94-2.06-.94-.94-2.06-.94 2.06-2.06.94zm-11 1L8.5 8.5l.94-2.06 2.06-.94-2.06-.94L8.5 2.5l-.94 2.06-2.06.94zm10 10l.94 2.06.94-2.06 2.06-.94-2.06-.94-.94-2.06-.94 2.06-2.06.94z\"/><path d=\"M17.41 7.96l-1.37-1.37c-.4-.4-.92-.59-1.43-.59-.52 0-1.04.2-1.43.59L10.3 9.45l-7.72 7.72c-.78.78-.78 2.05 0 2.83L4 21.41c.39.39.9.59 1.41.59.51 0 1.02-.2 1.41-.59l7.78-7.78 2.81-2.81c.8-.78.8-2.07 0-2.86zM5.41 20L4 18.59l7.72-7.72 1.47 1.35L5.41 20z\"/>\n",
              "  </svg>\n",
              "      </button>\n",
              "      \n",
              "  <style>\n",
              "    .colab-df-container {\n",
              "      display:flex;\n",
              "      flex-wrap:wrap;\n",
              "      gap: 12px;\n",
              "    }\n",
              "\n",
              "    .colab-df-convert {\n",
              "      background-color: #E8F0FE;\n",
              "      border: none;\n",
              "      border-radius: 50%;\n",
              "      cursor: pointer;\n",
              "      display: none;\n",
              "      fill: #1967D2;\n",
              "      height: 32px;\n",
              "      padding: 0 0 0 0;\n",
              "      width: 32px;\n",
              "    }\n",
              "\n",
              "    .colab-df-convert:hover {\n",
              "      background-color: #E2EBFA;\n",
              "      box-shadow: 0px 1px 2px rgba(60, 64, 67, 0.3), 0px 1px 3px 1px rgba(60, 64, 67, 0.15);\n",
              "      fill: #174EA6;\n",
              "    }\n",
              "\n",
              "    [theme=dark] .colab-df-convert {\n",
              "      background-color: #3B4455;\n",
              "      fill: #D2E3FC;\n",
              "    }\n",
              "\n",
              "    [theme=dark] .colab-df-convert:hover {\n",
              "      background-color: #434B5C;\n",
              "      box-shadow: 0px 1px 3px 1px rgba(0, 0, 0, 0.15);\n",
              "      filter: drop-shadow(0px 1px 2px rgba(0, 0, 0, 0.3));\n",
              "      fill: #FFFFFF;\n",
              "    }\n",
              "  </style>\n",
              "\n",
              "      <script>\n",
              "        const buttonEl =\n",
              "          document.querySelector('#df-3dbb0f8c-c128-4b45-8855-3d4dc2574f29 button.colab-df-convert');\n",
              "        buttonEl.style.display =\n",
              "          google.colab.kernel.accessAllowed ? 'block' : 'none';\n",
              "\n",
              "        async function convertToInteractive(key) {\n",
              "          const element = document.querySelector('#df-3dbb0f8c-c128-4b45-8855-3d4dc2574f29');\n",
              "          const dataTable =\n",
              "            await google.colab.kernel.invokeFunction('convertToInteractive',\n",
              "                                                     [key], {});\n",
              "          if (!dataTable) return;\n",
              "\n",
              "          const docLinkHtml = 'Like what you see? Visit the ' +\n",
              "            '<a target=\"_blank\" href=https://colab.research.google.com/notebooks/data_table.ipynb>data table notebook</a>'\n",
              "            + ' to learn more about interactive tables.';\n",
              "          element.innerHTML = '';\n",
              "          dataTable['output_type'] = 'display_data';\n",
              "          await google.colab.output.renderOutput(dataTable, element);\n",
              "          const docLink = document.createElement('div');\n",
              "          docLink.innerHTML = docLinkHtml;\n",
              "          element.appendChild(docLink);\n",
              "        }\n",
              "      </script>\n",
              "    </div>\n",
              "  </div>\n",
              "  "
            ]
          },
          "metadata": {},
          "execution_count": 139
        }
      ]
    },
    {
      "cell_type": "code",
      "source": [
        "y=rv1['Clust']\n",
        "y"
      ],
      "metadata": {
        "colab": {
          "base_uri": "https://localhost:8080/"
        },
        "id": "F6_SubNlgJxl",
        "outputId": "fa71fb3e-307e-46f4-d660-e5799207a9f4"
      },
      "execution_count": 141,
      "outputs": [
        {
          "output_type": "execute_result",
          "data": {
            "text/plain": [
              "0      4\n",
              "1      4\n",
              "2      0\n",
              "3      0\n",
              "4      0\n",
              "      ..\n",
              "195    2\n",
              "196    2\n",
              "197    1\n",
              "198    1\n",
              "199    1\n",
              "Name: Clust, Length: 200, dtype: int32"
            ]
          },
          "metadata": {},
          "execution_count": 141
        }
      ]
    },
    {
      "cell_type": "markdown",
      "source": [
        "#12. Split the data into training and testing"
      ],
      "metadata": {
        "id": "JAllrPengP2N"
      }
    },
    {
      "cell_type": "code",
      "source": [
        "from sklearn.model_selection import train_test_split\n",
        "x_train,x_test,y_train,y_test=train_test_split(x_scale,y,test_size=0.3,random_state=1)"
      ],
      "metadata": {
        "id": "pbXFEWqngTgH"
      },
      "execution_count": 142,
      "outputs": []
    },
    {
      "cell_type": "markdown",
      "source": [
        "#13. Build the Model"
      ],
      "metadata": {
        "id": "XQBHY4E4ghd0"
      }
    },
    {
      "cell_type": "markdown",
      "source": [
        "#14. Train the Model"
      ],
      "metadata": {
        "id": "FmbRAJk5gnUZ"
      }
    },
    {
      "cell_type": "code",
      "source": [
        "from sklearn.tree import DecisionTreeRegressor\n",
        "dtr=DecisionTreeRegressor()\n",
        "dtr.fit(x_train,y_train)"
      ],
      "metadata": {
        "colab": {
          "base_uri": "https://localhost:8080/"
        },
        "id": "fVJyC_tEgrcO",
        "outputId": "3024fac7-75de-43ef-f36e-9b96088d8d56"
      },
      "execution_count": 153,
      "outputs": [
        {
          "output_type": "execute_result",
          "data": {
            "text/plain": [
              "DecisionTreeRegressor()"
            ]
          },
          "metadata": {},
          "execution_count": 153
        }
      ]
    },
    {
      "cell_type": "markdown",
      "source": [
        "#15. Test the Model"
      ],
      "metadata": {
        "id": "WTw_I6CTis70"
      }
    },
    {
      "cell_type": "code",
      "source": [
        "pred_test=dtr.predict(x_test)\n",
        "pred_test"
      ],
      "metadata": {
        "colab": {
          "base_uri": "https://localhost:8080/"
        },
        "id": "nLZiYkMrhyuY",
        "outputId": "ab158919-e59f-44b5-dcfd-51b2685c6ad4"
      },
      "execution_count": 154,
      "outputs": [
        {
          "output_type": "execute_result",
          "data": {
            "text/plain": [
              "array([0., 0., 0., 1., 2., 1., 4., 0., 0., 2., 1., 4., 0., 5., 1., 5., 2.,\n",
              "       0., 2., 4., 4., 0., 0., 5., 0., 1., 0., 0., 2., 4., 0., 2., 2., 1.,\n",
              "       1., 5., 2., 5., 5., 1., 1., 1., 2., 4., 0., 0., 5., 0., 1., 5., 4.,\n",
              "       1., 5., 4., 4., 1., 2., 5., 1., 7.])"
            ]
          },
          "metadata": {},
          "execution_count": 154
        }
      ]
    },
    {
      "cell_type": "code",
      "source": [
        "y_test"
      ],
      "metadata": {
        "colab": {
          "base_uri": "https://localhost:8080/"
        },
        "id": "2FHl36GZh8d7",
        "outputId": "b44f66c6-6bcf-491d-9e65-a27c0ad0408c"
      },
      "execution_count": 155,
      "outputs": [
        {
          "output_type": "execute_result",
          "data": {
            "text/plain": [
              "58     0\n",
              "40     0\n",
              "34     0\n",
              "102    1\n",
              "184    2\n",
              "198    1\n",
              "95     4\n",
              "4      0\n",
              "29     0\n",
              "168    2\n",
              "171    1\n",
              "18     4\n",
              "11     0\n",
              "89     5\n",
              "110    1\n",
              "118    5\n",
              "159    2\n",
              "35     0\n",
              "136    2\n",
              "59     4\n",
              "51     4\n",
              "16     0\n",
              "44     0\n",
              "94     5\n",
              "31     0\n",
              "162    6\n",
              "38     0\n",
              "28     0\n",
              "193    2\n",
              "27     4\n",
              "47     0\n",
              "165    2\n",
              "194    2\n",
              "177    1\n",
              "176    1\n",
              "97     5\n",
              "174    2\n",
              "73     5\n",
              "69     5\n",
              "172    7\n",
              "108    1\n",
              "107    1\n",
              "189    2\n",
              "14     4\n",
              "56     0\n",
              "19     0\n",
              "114    5\n",
              "39     0\n",
              "185    1\n",
              "124    5\n",
              "98     4\n",
              "123    1\n",
              "119    5\n",
              "53     4\n",
              "33     4\n",
              "179    1\n",
              "181    2\n",
              "106    5\n",
              "199    1\n",
              "138    7\n",
              "Name: Clust, dtype: int32"
            ]
          },
          "metadata": {},
          "execution_count": 155
        }
      ]
    },
    {
      "cell_type": "markdown",
      "source": [
        "#16. Measure the performance using Evaluation Metrics."
      ],
      "metadata": {
        "id": "RogPXzVEiJrs"
      }
    },
    {
      "cell_type": "code",
      "source": [
        "from sklearn.metrics import accuracy_score\n",
        "accuracy_score(pred_test,y_test)"
      ],
      "metadata": {
        "colab": {
          "base_uri": "https://localhost:8080/"
        },
        "id": "DlWwOaZniMFZ",
        "outputId": "a78960fc-1a37-4caf-915b-516cdbcd6add"
      },
      "execution_count": 156,
      "outputs": [
        {
          "output_type": "execute_result",
          "data": {
            "text/plain": [
              "0.9666666666666667"
            ]
          },
          "metadata": {},
          "execution_count": 156
        }
      ]
    }
  ]
}