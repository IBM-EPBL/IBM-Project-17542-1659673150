{
 "cells": [
  {
   "cell_type": "code",
   "execution_count": 1,
   "id": "db1053b1",
   "metadata": {},
   "outputs": [],
   "source": [
    "##import libraries\n",
    "import pandas as pd\n",
    "import numpy as np\n",
    "import matplotlib as plt\n",
    "from sklearn.preprocessing  import LabelEncoder\n",
    "import pickle\n",
    "import seaborn as sns"
   ]
  },
  {
   "cell_type": "code",
   "execution_count": 2,
   "id": "659478bc",
   "metadata": {},
   "outputs": [],
   "source": [
    "car=pd.read_csv(r\"C:\\Users\\narma\\OneDrive\\Desktop\\Project\\autos.csv\",header=0,sep=',',encoding='Latin1',)\n"
   ]
  },
  {
   "cell_type": "code",
   "execution_count": 3,
   "id": "5325d8a9",
   "metadata": {},
   "outputs": [
    {
     "data": {
      "text/html": [
       "<div>\n",
       "<style scoped>\n",
       "    .dataframe tbody tr th:only-of-type {\n",
       "        vertical-align: middle;\n",
       "    }\n",
       "\n",
       "    .dataframe tbody tr th {\n",
       "        vertical-align: top;\n",
       "    }\n",
       "\n",
       "    .dataframe thead th {\n",
       "        text-align: right;\n",
       "    }\n",
       "</style>\n",
       "<table border=\"1\" class=\"dataframe\">\n",
       "  <thead>\n",
       "    <tr style=\"text-align: right;\">\n",
       "      <th></th>\n",
       "      <th>Unnamed: 0</th>\n",
       "      <th>car_name</th>\n",
       "      <th>brand</th>\n",
       "      <th>model</th>\n",
       "      <th>min_cost_price</th>\n",
       "      <th>max_cost_price</th>\n",
       "      <th>vehicle_age</th>\n",
       "      <th>km_driven</th>\n",
       "      <th>seller_type</th>\n",
       "      <th>fuel_type</th>\n",
       "      <th>transmission_type</th>\n",
       "      <th>mileage</th>\n",
       "      <th>engine</th>\n",
       "      <th>max_power</th>\n",
       "      <th>seats</th>\n",
       "      <th>Owner_type</th>\n",
       "      <th>selling_price</th>\n",
       "    </tr>\n",
       "  </thead>\n",
       "  <tbody>\n",
       "    <tr>\n",
       "      <th>10760</th>\n",
       "      <td>13695</td>\n",
       "      <td>Maruti Baleno</td>\n",
       "      <td>Maruti</td>\n",
       "      <td>Baleno</td>\n",
       "      <td>684580.9129</td>\n",
       "      <td>1054132.78</td>\n",
       "      <td>6</td>\n",
       "      <td>70000</td>\n",
       "      <td>Dealer</td>\n",
       "      <td>Diesel</td>\n",
       "      <td>Manual</td>\n",
       "      <td>27.39</td>\n",
       "      <td>1248</td>\n",
       "      <td>74.0</td>\n",
       "      <td>5</td>\n",
       "      <td>2</td>\n",
       "      <td>550000</td>\n",
       "    </tr>\n",
       "  </tbody>\n",
       "</table>\n",
       "</div>"
      ],
      "text/plain": [
       "       Unnamed: 0       car_name   brand   model  min_cost_price  \\\n",
       "10760       13695  Maruti Baleno  Maruti  Baleno     684580.9129   \n",
       "\n",
       "       max_cost_price  vehicle_age  km_driven seller_type fuel_type  \\\n",
       "10760      1054132.78            6      70000      Dealer    Diesel   \n",
       "\n",
       "      transmission_type  mileage  engine  max_power  seats  Owner_type  \\\n",
       "10760            Manual    27.39    1248       74.0      5           2   \n",
       "\n",
       "       selling_price  \n",
       "10760         550000  "
      ]
     },
     "execution_count": 3,
     "metadata": {},
     "output_type": "execute_result"
    }
   ],
   "source": [
    "car.sample()"
   ]
  },
  {
   "cell_type": "code",
   "execution_count": 4,
   "id": "ebe4423f",
   "metadata": {},
   "outputs": [
    {
     "name": "stdout",
     "output_type": "stream",
     "text": [
      "<class 'pandas.core.frame.DataFrame'>\n",
      "RangeIndex: 15411 entries, 0 to 15410\n",
      "Data columns (total 17 columns):\n",
      " #   Column             Non-Null Count  Dtype  \n",
      "---  ------             --------------  -----  \n",
      " 0   Unnamed: 0         15411 non-null  int64  \n",
      " 1   car_name           15411 non-null  object \n",
      " 2   brand              15411 non-null  object \n",
      " 3   model              15411 non-null  object \n",
      " 4   min_cost_price     15411 non-null  float64\n",
      " 5   max_cost_price     15411 non-null  float64\n",
      " 6   vehicle_age        15411 non-null  int64  \n",
      " 7   km_driven          15411 non-null  int64  \n",
      " 8   seller_type        15411 non-null  object \n",
      " 9   fuel_type          15411 non-null  object \n",
      " 10  transmission_type  15411 non-null  object \n",
      " 11  mileage            15411 non-null  float64\n",
      " 12  engine             15411 non-null  int64  \n",
      " 13  max_power          15411 non-null  float64\n",
      " 14  seats              15411 non-null  int64  \n",
      " 15  Owner_type         15411 non-null  int64  \n",
      " 16  selling_price      15411 non-null  int64  \n",
      "dtypes: float64(4), int64(7), object(6)\n",
      "memory usage: 2.0+ MB\n"
     ]
    }
   ],
   "source": [
    "car.info()"
   ]
  },
  {
   "cell_type": "code",
   "execution_count": 5,
   "id": "132208c3",
   "metadata": {},
   "outputs": [
    {
     "data": {
      "text/html": [
       "<div>\n",
       "<style scoped>\n",
       "    .dataframe tbody tr th:only-of-type {\n",
       "        vertical-align: middle;\n",
       "    }\n",
       "\n",
       "    .dataframe tbody tr th {\n",
       "        vertical-align: top;\n",
       "    }\n",
       "\n",
       "    .dataframe thead th {\n",
       "        text-align: right;\n",
       "    }\n",
       "</style>\n",
       "<table border=\"1\" class=\"dataframe\">\n",
       "  <thead>\n",
       "    <tr style=\"text-align: right;\">\n",
       "      <th></th>\n",
       "      <th>brand</th>\n",
       "      <th>model</th>\n",
       "      <th>vehicle_age</th>\n",
       "      <th>km_driven</th>\n",
       "      <th>fuel_type</th>\n",
       "      <th>transmission_type</th>\n",
       "      <th>mileage</th>\n",
       "      <th>engine</th>\n",
       "      <th>max_power</th>\n",
       "      <th>seats</th>\n",
       "      <th>Owner_type</th>\n",
       "      <th>selling_price</th>\n",
       "    </tr>\n",
       "  </thead>\n",
       "  <tbody>\n",
       "    <tr>\n",
       "      <th>7431</th>\n",
       "      <td>Honda</td>\n",
       "      <td>City</td>\n",
       "      <td>4</td>\n",
       "      <td>44316</td>\n",
       "      <td>Petrol</td>\n",
       "      <td>Manual</td>\n",
       "      <td>17.0</td>\n",
       "      <td>1497</td>\n",
       "      <td>118.0</td>\n",
       "      <td>5</td>\n",
       "      <td>1</td>\n",
       "      <td>740000</td>\n",
       "    </tr>\n",
       "  </tbody>\n",
       "</table>\n",
       "</div>"
      ],
      "text/plain": [
       "      brand model  vehicle_age  km_driven fuel_type transmission_type  \\\n",
       "7431  Honda  City            4      44316    Petrol            Manual   \n",
       "\n",
       "      mileage  engine  max_power  seats  Owner_type  selling_price  \n",
       "7431     17.0    1497      118.0      5           1         740000  "
      ]
     },
     "execution_count": 5,
     "metadata": {},
     "output_type": "execute_result"
    }
   ],
   "source": [
    "##remove unwanted columns\n",
    "car.drop(['Unnamed: 0','car_name','min_cost_price','max_cost_price','seller_type'],axis='columns',inplace=True)\n",
    "car.sample()"
   ]
  },
  {
   "cell_type": "code",
   "execution_count": 6,
   "id": "547ea130",
   "metadata": {},
   "outputs": [],
   "source": [
    "car1=car.copy()\n",
    "car1=car1.drop_duplicates(['brand','model','vehicle_age','km_driven','fuel_type','transmission_type','mileage','engine','max_power','seats','Owner_type','selling_price'])"
   ]
  },
  {
   "cell_type": "code",
   "execution_count": 7,
   "id": "63464386",
   "metadata": {},
   "outputs": [
    {
     "data": {
      "text/plain": [
       "(15331, 12)"
      ]
     },
     "execution_count": 7,
     "metadata": {},
     "output_type": "execute_result"
    }
   ],
   "source": [
    "car1.shape"
   ]
  },
  {
   "cell_type": "code",
   "execution_count": 8,
   "id": "41b9c90e",
   "metadata": {
    "scrolled": true
   },
   "outputs": [
    {
     "data": {
      "text/plain": [
       "<AxesSubplot:xlabel='km_driven', ylabel='Count'>"
      ]
     },
     "execution_count": 8,
     "metadata": {},
     "output_type": "execute_result"
    },
    {
     "data": {
      "image/png": "[encoded data removed]",
      "text/plain": [
       "<Figure size 432x288 with 1 Axes>"
      ]
     },
     "metadata": {
      "needs_background": "light"
     },
     "output_type": "display_data"
    }
   ],
   "source": [
    "sns.histplot(data=car1,x='km_driven')"
   ]
  },
  {
   "cell_type": "code",
   "execution_count": 9,
   "id": "d55a0add",
   "metadata": {},
   "outputs": [],
   "source": [
    "#remove outliears\n",
    "cols= ['km_driven' , 'mileage' , 'engine' , 'max_power','selling_price']"
   ]
  },
  {
   "cell_type": "code",
   "execution_count": 10,
   "id": "1d9ceaa8",
   "metadata": {},
   "outputs": [],
   "source": [
    "car2 = car1.copy()\n",
    "from datasist.structdata import detect_outliers \n",
    "\n",
    "outliears = detect_outliers(car2[cols],0,car2[cols].columns)\n",
    "car2.drop(outliears,inplace=True)\n"
   ]
  },
  {
   "cell_type": "code",
   "execution_count": 11,
   "id": "a74058fb",
   "metadata": {},
   "outputs": [
    {
     "data": {
      "text/html": [
       "<div>\n",
       "<style scoped>\n",
       "    .dataframe tbody tr th:only-of-type {\n",
       "        vertical-align: middle;\n",
       "    }\n",
       "\n",
       "    .dataframe tbody tr th {\n",
       "        vertical-align: top;\n",
       "    }\n",
       "\n",
       "    .dataframe thead th {\n",
       "        text-align: right;\n",
       "    }\n",
       "</style>\n",
       "<table border=\"1\" class=\"dataframe\">\n",
       "  <thead>\n",
       "    <tr style=\"text-align: right;\">\n",
       "      <th></th>\n",
       "      <th>brand</th>\n",
       "      <th>model</th>\n",
       "      <th>vehicle_age</th>\n",
       "      <th>km_driven</th>\n",
       "      <th>fuel_type</th>\n",
       "      <th>transmission_type</th>\n",
       "      <th>mileage</th>\n",
       "      <th>engine</th>\n",
       "      <th>max_power</th>\n",
       "      <th>seats</th>\n",
       "      <th>Owner_type</th>\n",
       "      <th>selling_price</th>\n",
       "    </tr>\n",
       "  </thead>\n",
       "  <tbody>\n",
       "    <tr>\n",
       "      <th>3074</th>\n",
       "      <td>Hyundai</td>\n",
       "      <td>Verna</td>\n",
       "      <td>8</td>\n",
       "      <td>65000</td>\n",
       "      <td>Diesel</td>\n",
       "      <td>Manual</td>\n",
       "      <td>22.32</td>\n",
       "      <td>1582</td>\n",
       "      <td>126.3</td>\n",
       "      <td>5</td>\n",
       "      <td>1</td>\n",
       "      <td>540000</td>\n",
       "    </tr>\n",
       "  </tbody>\n",
       "</table>\n",
       "</div>"
      ],
      "text/plain": [
       "        brand  model  vehicle_age  km_driven fuel_type transmission_type  \\\n",
       "3074  Hyundai  Verna            8      65000    Diesel            Manual   \n",
       "\n",
       "      mileage  engine  max_power  seats  Owner_type  selling_price  \n",
       "3074    22.32    1582      126.3      5           1         540000  "
      ]
     },
     "execution_count": 11,
     "metadata": {},
     "output_type": "execute_result"
    }
   ],
   "source": [
    "car2.shape\n",
    "car2.sample()"
   ]
  },
  {
   "cell_type": "code",
   "execution_count": 12,
   "id": "a1bcc8aa",
   "metadata": {},
   "outputs": [],
   "source": [
    "##saving cleaned datadet\n",
    "car2.to_csv(\"autos_preprocessed.csv\")"
   ]
  },
  {
   "cell_type": "code",
   "execution_count": 13,
   "id": "f1f165a1",
   "metadata": {},
   "outputs": [
    {
     "data": {
      "text/plain": [
       "array(['Petrol', 'Diesel', 'CNG', 'LPG'], dtype=object)"
      ]
     },
     "execution_count": 13,
     "metadata": {},
     "output_type": "execute_result"
    }
   ],
   "source": [
    "car2['fuel_type'].unique()"
   ]
  },
  {
   "cell_type": "code",
   "execution_count": 14,
   "id": "1a71a989",
   "metadata": {},
   "outputs": [
    {
     "name": "stdout",
     "output_type": "stream",
     "text": [
      "brand : LabelEncoder()\n",
      "model : LabelEncoder()\n",
      "fuel_type : LabelEncoder()\n",
      "transmission_type : LabelEncoder()\n",
      "Index(['selling_price', 'vehicle_age', 'km_driven', 'mileage', 'engine',\n",
      "       'max_power', 'seats', 'Owner_type', 'brand_labels', 'model_labels',\n",
      "       'fuel_type_labels', 'transmission_type_labels'],\n",
      "      dtype='object')\n"
     ]
    }
   ],
   "source": [
    "##convert categorical columns into label encoding\n",
    "labels=['brand','model','fuel_type','transmission_type']\n",
    "mapper={}\n",
    "for i in labels:\n",
    "    mapper[i]=LabelEncoder()\n",
    "    mapper[i].fit(car2[i])\n",
    "    tr=mapper[i].transform(car2[i])\n",
    "    np.save(str('classes'+i+'.npy'),mapper[i].classes_)\n",
    "    print(i,\":\",mapper[i])\n",
    "    car2.loc[:,i + '_labels']=pd.Series(tr,index=car2.index)\n",
    "labeled=car2[['selling_price','vehicle_age','km_driven','mileage','engine','max_power','seats','Owner_type']+[x+\"_labels\" for x in labels]]\n",
    "print(labeled.columns)\n",
    "    \n"
   ]
  },
  {
   "cell_type": "code",
   "execution_count": 15,
   "id": "a1d2d849",
   "metadata": {},
   "outputs": [
    {
     "name": "stdout",
     "output_type": "stream",
     "text": [
      "<class 'pandas.core.frame.DataFrame'>\n",
      "Int64Index: 12186 entries, 0 to 15410\n",
      "Data columns (total 12 columns):\n",
      " #   Column                    Non-Null Count  Dtype  \n",
      "---  ------                    --------------  -----  \n",
      " 0   selling_price             12186 non-null  int64  \n",
      " 1   vehicle_age               12186 non-null  int64  \n",
      " 2   km_driven                 12186 non-null  int64  \n",
      " 3   mileage                   12186 non-null  float64\n",
      " 4   engine                    12186 non-null  int64  \n",
      " 5   max_power                 12186 non-null  float64\n",
      " 6   seats                     12186 non-null  int64  \n",
      " 7   Owner_type                12186 non-null  int64  \n",
      " 8   brand_labels              12186 non-null  int32  \n",
      " 9   model_labels              12186 non-null  int32  \n",
      " 10  fuel_type_labels          12186 non-null  int32  \n",
      " 11  transmission_type_labels  12186 non-null  int32  \n",
      "dtypes: float64(2), int32(4), int64(6)\n",
      "memory usage: 1.0 MB\n"
     ]
    }
   ],
   "source": [
    "labeled.info()"
   ]
  },
  {
   "cell_type": "code",
   "execution_count": 16,
   "id": "6ba788b2",
   "metadata": {},
   "outputs": [
    {
     "data": {
      "text/html": [
       "<div>\n",
       "<style scoped>\n",
       "    .dataframe tbody tr th:only-of-type {\n",
       "        vertical-align: middle;\n",
       "    }\n",
       "\n",
       "    .dataframe tbody tr th {\n",
       "        vertical-align: top;\n",
       "    }\n",
       "\n",
       "    .dataframe thead th {\n",
       "        text-align: right;\n",
       "    }\n",
       "</style>\n",
       "<table border=\"1\" class=\"dataframe\">\n",
       "  <thead>\n",
       "    <tr style=\"text-align: right;\">\n",
       "      <th></th>\n",
       "      <th>selling_price</th>\n",
       "      <th>vehicle_age</th>\n",
       "      <th>km_driven</th>\n",
       "      <th>mileage</th>\n",
       "      <th>engine</th>\n",
       "      <th>max_power</th>\n",
       "      <th>seats</th>\n",
       "      <th>Owner_type</th>\n",
       "      <th>brand_labels</th>\n",
       "      <th>model_labels</th>\n",
       "      <th>fuel_type_labels</th>\n",
       "      <th>transmission_type_labels</th>\n",
       "    </tr>\n",
       "  </thead>\n",
       "  <tbody>\n",
       "    <tr>\n",
       "      <th>11571</th>\n",
       "      <td>400000</td>\n",
       "      <td>9</td>\n",
       "      <td>37323</td>\n",
       "      <td>17.0</td>\n",
       "      <td>1497</td>\n",
       "      <td>118.0</td>\n",
       "      <td>5</td>\n",
       "      <td>1</td>\n",
       "      <td>4</td>\n",
       "      <td>15</td>\n",
       "      <td>3</td>\n",
       "      <td>1</td>\n",
       "    </tr>\n",
       "  </tbody>\n",
       "</table>\n",
       "</div>"
      ],
      "text/plain": [
       "       selling_price  vehicle_age  km_driven  mileage  engine  max_power  \\\n",
       "11571         400000            9      37323     17.0    1497      118.0   \n",
       "\n",
       "       seats  Owner_type  brand_labels  model_labels  fuel_type_labels  \\\n",
       "11571      5           1             4            15                 3   \n",
       "\n",
       "       transmission_type_labels  \n",
       "11571                         1  "
      ]
     },
     "execution_count": 16,
     "metadata": {},
     "output_type": "execute_result"
    }
   ],
   "source": [
    "labeled.sample()"
   ]
  },
  {
   "cell_type": "code",
   "execution_count": 17,
   "id": "89ccb804",
   "metadata": {},
   "outputs": [
    {
     "name": "stdout",
     "output_type": "stream",
     "text": [
      "<class 'pandas.core.frame.DataFrame'>\n",
      "Int64Index: 12186 entries, 0 to 15410\n",
      "Data columns (total 12 columns):\n",
      " #   Column                    Non-Null Count  Dtype  \n",
      "---  ------                    --------------  -----  \n",
      " 0   selling_price             12186 non-null  int64  \n",
      " 1   vehicle_age               12186 non-null  int64  \n",
      " 2   km_driven                 12186 non-null  int64  \n",
      " 3   mileage                   12186 non-null  float64\n",
      " 4   engine                    12186 non-null  int64  \n",
      " 5   max_power                 12186 non-null  float64\n",
      " 6   seats                     12186 non-null  int64  \n",
      " 7   Owner_type                12186 non-null  int64  \n",
      " 8   brand_labels              12186 non-null  int32  \n",
      " 9   model_labels              12186 non-null  int32  \n",
      " 10  fuel_type_labels          12186 non-null  int32  \n",
      " 11  transmission_type_labels  12186 non-null  int32  \n",
      "dtypes: float64(2), int32(4), int64(6)\n",
      "memory usage: 1.0 MB\n"
     ]
    }
   ],
   "source": [
    "labeled.info()"
   ]
  },
  {
   "cell_type": "code",
   "execution_count": 18,
   "id": "3f8a1cc8",
   "metadata": {},
   "outputs": [
    {
     "data": {
      "text/plain": [
       "selling_price               False\n",
       "vehicle_age                 False\n",
       "km_driven                   False\n",
       "mileage                     False\n",
       "engine                      False\n",
       "max_power                   False\n",
       "seats                       False\n",
       "Owner_type                  False\n",
       "brand_labels                False\n",
       "model_labels                False\n",
       "fuel_type_labels            False\n",
       "transmission_type_labels    False\n",
       "dtype: bool"
      ]
     },
     "execution_count": 18,
     "metadata": {},
     "output_type": "execute_result"
    }
   ],
   "source": [
    "labeled.isnull().any()"
   ]
  },
  {
   "cell_type": "code",
   "execution_count": 19,
   "id": "d32c024e",
   "metadata": {},
   "outputs": [
    {
     "data": {
      "text/plain": [
       "array([ 4, 33, 73, 25, 64, 72, 60, 54, 61, 20, 14, 11,  9, 55, 59, 19, 15,\n",
       "       40,  6, 50, 10, 39, 35, 47, 51, 42,  7, 29, 62, 56, 45, 52, 13, 31,\n",
       "       12, 38, 37,  2, 57, 28, 26, 70, 46, 30, 53, 43, 69, 22, 63, 68, 58,\n",
       "        0, 27, 71, 48, 21,  8, 49,  1, 16, 41, 24, 44, 17, 74,  3, 32, 23,\n",
       "       36, 65, 34, 67, 66,  5, 18])"
      ]
     },
     "execution_count": 19,
     "metadata": {},
     "output_type": "execute_result"
    }
   ],
   "source": [
    "labeled['model_labels'].unique()"
   ]
  },
  {
   "cell_type": "code",
   "execution_count": 20,
   "id": "65f1af84",
   "metadata": {},
   "outputs": [],
   "source": [
    "##split the data set\n",
    "X=labeled.iloc[:,1:].values\n",
    "Y=labeled.iloc[:,0].values\n",
    "Y=Y.reshape(-1,1)"
   ]
  },
  {
   "cell_type": "code",
   "execution_count": 21,
   "id": "74db46ae",
   "metadata": {},
   "outputs": [
    {
     "data": {
      "text/plain": [
       "array([[False, False, False, ..., False, False, False],\n",
       "       [False, False, False, ..., False, False, False],\n",
       "       [False, False, False, ..., False, False, False],\n",
       "       ...,\n",
       "       [False, False, False, ..., False, False, False],\n",
       "       [False, False, False, ..., False, False, False],\n",
       "       [False, False, False, ..., False, False, False]])"
      ]
     },
     "execution_count": 21,
     "metadata": {},
     "output_type": "execute_result"
    }
   ],
   "source": [
    "np.isnan(X)"
   ]
  },
  {
   "cell_type": "code",
   "execution_count": 22,
   "id": "424f8d3a",
   "metadata": {},
   "outputs": [],
   "source": [
    "##train the dataset\n",
    "from sklearn.model_selection import cross_val_score,train_test_split\n"
   ]
  },
  {
   "cell_type": "code",
   "execution_count": 23,
   "id": "a72f098f",
   "metadata": {},
   "outputs": [
    {
     "name": "stdout",
     "output_type": "stream",
     "text": [
      "(9748, 11)\n",
      "(2438, 11)\n",
      "(9748, 1)\n",
      "(2438, 1)\n"
     ]
    }
   ],
   "source": [
    "X_train, X_test, Y_train, Y_test = train_test_split(X,Y, test_size=0.2, random_state=111)\n",
    "print (X_train.shape)\n",
    "print (X_test.shape)\n",
    "print (Y_train.shape)\n",
    "print (Y_test.shape)\n",
    "\n"
   ]
  },
  {
   "cell_type": "code",
   "execution_count": 24,
   "id": "f47dba3b",
   "metadata": {},
   "outputs": [
    {
     "data": {
      "text/html": [
       "<style>#sk-container-id-1 {color: black;background-color: white;}#sk-container-id-1 pre{padding: 0;}#sk-container-id-1 div.sk-toggleable {background-color: white;}#sk-container-id-1 label.sk-toggleable__label {cursor: pointer;display: block;width: 100%;margin-bottom: 0;padding: 0.3em;box-sizing: border-box;text-align: center;}#sk-container-id-1 label.sk-toggleable__label-arrow:before {content: \"▸\";float: left;margin-right: 0.25em;color: #696969;}#sk-container-id-1 label.sk-toggleable__label-arrow:hover:before {color: black;}#sk-container-id-1 div.sk-estimator:hover label.sk-toggleable__label-arrow:before {color: black;}#sk-container-id-1 div.sk-toggleable__content {max-height: 0;max-width: 0;overflow: hidden;text-align: left;background-color: #f0f8ff;}#sk-container-id-1 div.sk-toggleable__content pre {margin: 0.2em;color: black;border-radius: 0.25em;background-color: #f0f8ff;}#sk-container-id-1 input.sk-toggleable__control:checked~div.sk-toggleable__content {max-height: 200px;max-width: 100%;overflow: auto;}#sk-container-id-1 input.sk-toggleable__control:checked~label.sk-toggleable__label-arrow:before {content: \"▾\";}#sk-container-id-1 div.sk-estimator input.sk-toggleable__control:checked~label.sk-toggleable__label {background-color: #d4ebff;}#sk-container-id-1 div.sk-label input.sk-toggleable__control:checked~label.sk-toggleable__label {background-color: #d4ebff;}#sk-container-id-1 input.sk-hidden--visually {border: 0;clip: rect(1px 1px 1px 1px);clip: rect(1px, 1px, 1px, 1px);height: 1px;margin: -1px;overflow: hidden;padding: 0;position: absolute;width: 1px;}#sk-container-id-1 div.sk-estimator {font-family: monospace;background-color: #f0f8ff;border: 1px dotted black;border-radius: 0.25em;box-sizing: border-box;margin-bottom: 0.5em;}#sk-container-id-1 div.sk-estimator:hover {background-color: #d4ebff;}#sk-container-id-1 div.sk-parallel-item::after {content: \"\";width: 100%;border-bottom: 1px solid gray;flex-grow: 1;}#sk-container-id-1 div.sk-label:hover label.sk-toggleable__label {background-color: #d4ebff;}#sk-container-id-1 div.sk-serial::before {content: \"\";position: absolute;border-left: 1px solid gray;box-sizing: border-box;top: 0;bottom: 0;left: 50%;z-index: 0;}#sk-container-id-1 div.sk-serial {display: flex;flex-direction: column;align-items: center;background-color: white;padding-right: 0.2em;padding-left: 0.2em;position: relative;}#sk-container-id-1 div.sk-item {position: relative;z-index: 1;}#sk-container-id-1 div.sk-parallel {display: flex;align-items: stretch;justify-content: center;background-color: white;position: relative;}#sk-container-id-1 div.sk-item::before, #sk-container-id-1 div.sk-parallel-item::before {content: \"\";position: absolute;border-left: 1px solid gray;box-sizing: border-box;top: 0;bottom: 0;left: 50%;z-index: -1;}#sk-container-id-1 div.sk-parallel-item {display: flex;flex-direction: column;z-index: 1;position: relative;background-color: white;}#sk-container-id-1 div.sk-parallel-item:first-child::after {align-self: flex-end;width: 50%;}#sk-container-id-1 div.sk-parallel-item:last-child::after {align-self: flex-start;width: 50%;}#sk-container-id-1 div.sk-parallel-item:only-child::after {width: 0;}#sk-container-id-1 div.sk-dashed-wrapped {border: 1px dashed gray;margin: 0 0.4em 0.5em 0.4em;box-sizing: border-box;padding-bottom: 0.4em;background-color: white;}#sk-container-id-1 div.sk-label label {font-family: monospace;font-weight: bold;display: inline-block;line-height: 1.2em;}#sk-container-id-1 div.sk-label-container {text-align: center;}#sk-container-id-1 div.sk-container {/* jupyter's `normalize.less` sets `[hidden] { display: none; }` but bootstrap.min.css set `[hidden] { display: none !important; }` so we also need the `!important` here to be able to override the default hidden behavior on the sphinx rendered scikit-learn.org. See: https://github.com/scikit-learn/scikit-learn/issues/21755 */display: inline-block !important;position: relative;}#sk-container-id-1 div.sk-text-repr-fallback {display: none;}</style><div id=\"sk-container-id-1\" class=\"sk-top-container\"><div class=\"sk-text-repr-fallback\"><pre>RandomForestRegressor()</pre><b>In a Jupyter environment, please rerun this cell to show the HTML representation or trust the notebook. <br />On GitHub, the HTML representation is unable to render, please try loading this page with nbviewer.org.</b></div><div class=\"sk-container\" hidden><div class=\"sk-item\"><div class=\"sk-estimator sk-toggleable\"><input class=\"sk-toggleable__control sk-hidden--visually\" id=\"sk-estimator-id-1\" type=\"checkbox\" checked><label for=\"sk-estimator-id-1\" class=\"sk-toggleable__label sk-toggleable__label-arrow\">RandomForestRegressor</label><div class=\"sk-toggleable__content\"><pre>RandomForestRegressor()</pre></div></div></div></div></div>"
      ],
      "text/plain": [
       "RandomForestRegressor()"
      ]
     },
     "execution_count": 24,
     "metadata": {},
     "output_type": "execute_result"
    }
   ],
   "source": [
    "##model building\n",
    "##random forest\n",
    "from sklearn.ensemble import RandomForestRegressor\n",
    "regressor=RandomForestRegressor()\n",
    "regressor.fit(X_train,np.ravel(Y_train,order='C'))\n"
   ]
  },
  {
   "cell_type": "code",
   "execution_count": 25,
   "id": "3b58d378",
   "metadata": {},
   "outputs": [
    {
     "data": {
      "text/plain": [
       "0.9816834366606736"
      ]
     },
     "execution_count": 25,
     "metadata": {},
     "output_type": "execute_result"
    }
   ],
   "source": [
    "regressor.score(X_train,Y_train)"
   ]
  },
  {
   "cell_type": "code",
   "execution_count": 26,
   "id": "05dd4d91",
   "metadata": {},
   "outputs": [
    {
     "data": {
      "text/plain": [
       "0.8836556735715708"
      ]
     },
     "execution_count": 26,
     "metadata": {},
     "output_type": "execute_result"
    }
   ],
   "source": [
    "regressor.score(X_test,Y_test)"
   ]
  },
  {
   "cell_type": "code",
   "execution_count": 27,
   "id": "72393a98",
   "metadata": {},
   "outputs": [
    {
     "data": {
      "text/plain": [
       "array([205820.        , 472791.66666667, 523470.        , ...,\n",
       "       697800.        , 239897.5       , 514500.        ])"
      ]
     },
     "execution_count": 27,
     "metadata": {},
     "output_type": "execute_result"
    }
   ],
   "source": [
    "pred_test=regressor.predict(X_test)\n",
    "pred_test"
   ]
  },
  {
   "cell_type": "code",
   "execution_count": 28,
   "id": "09661c7f",
   "metadata": {},
   "outputs": [
    {
     "data": {
      "text/plain": [
       "array([[280000],\n",
       "       [330000],\n",
       "       [591000],\n",
       "       ...,\n",
       "       [650000],\n",
       "       [200000],\n",
       "       [600000]], dtype=int64)"
      ]
     },
     "execution_count": 28,
     "metadata": {},
     "output_type": "execute_result"
    }
   ],
   "source": [
    "Y_test"
   ]
  },
  {
   "cell_type": "code",
   "execution_count": 29,
   "id": "89936e2c",
   "metadata": {},
   "outputs": [
    {
     "data": {
      "text/plain": [
       "0.8755513899925549"
      ]
     },
     "execution_count": 29,
     "metadata": {},
     "output_type": "execute_result"
    }
   ],
   "source": [
    "#evaluation metrics\n",
    "from sklearn.metrics import mean_squared_error,r2_score\n",
    "RMSE=r2_score(pred_test,Y_test)\n",
    "RMSE"
   ]
  },
  {
   "cell_type": "code",
   "execution_count": 30,
   "id": "454a4439",
   "metadata": {},
   "outputs": [
    {
     "name": "stdout",
     "output_type": "stream",
     "text": [
      "<class 'pandas.core.frame.DataFrame'>\n",
      "Int64Index: 12186 entries, 0 to 15410\n",
      "Data columns (total 12 columns):\n",
      " #   Column                    Non-Null Count  Dtype  \n",
      "---  ------                    --------------  -----  \n",
      " 0   selling_price             12186 non-null  int64  \n",
      " 1   vehicle_age               12186 non-null  int64  \n",
      " 2   km_driven                 12186 non-null  int64  \n",
      " 3   mileage                   12186 non-null  float64\n",
      " 4   engine                    12186 non-null  int64  \n",
      " 5   max_power                 12186 non-null  float64\n",
      " 6   seats                     12186 non-null  int64  \n",
      " 7   Owner_type                12186 non-null  int64  \n",
      " 8   brand_labels              12186 non-null  int32  \n",
      " 9   model_labels              12186 non-null  int32  \n",
      " 10  fuel_type_labels          12186 non-null  int32  \n",
      " 11  transmission_type_labels  12186 non-null  int32  \n",
      "dtypes: float64(2), int32(4), int64(6)\n",
      "memory usage: 1.0 MB\n"
     ]
    }
   ],
   "source": [
    "labeled.info()\n"
   ]
  },
  {
   "cell_type": "code",
   "execution_count": 33,
   "id": "b94c2732",
   "metadata": {},
   "outputs": [],
   "source": [
    "#saving the model\n",
    "import pickle\n",
    "filename='random.pkl'\n",
    "pickle.dump(regressor,open(filename,\"wb\"))"
   ]
  },
  {
   "cell_type": "code",
   "execution_count": null,
   "id": "3507c7fc",
   "metadata": {},
   "outputs": [],
   "source": []
  }
 ],
 "metadata": {
  "kernelspec": {
   "display_name": "Python 3 (ipykernel)",
   "language": "python",
   "name": "python3"
  },
  "language_info": {
   "codemirror_mode": {
    "name": "ipython",
    "version": 3
   },
   "file_extension": ".py",
   "mimetype": "text/x-python",
   "name": "python",
   "nbconvert_exporter": "python",
   "pygments_lexer": "ipython3",
   "version": "3.9.12"
  }
 },
 "nbformat": 4,
 "nbformat_minor": 5
}
